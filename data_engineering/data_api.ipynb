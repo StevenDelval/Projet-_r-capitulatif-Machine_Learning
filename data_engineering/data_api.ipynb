{
 "cells": [
  {
   "cell_type": "code",
   "execution_count": 7,
   "metadata": {},
   "outputs": [],
   "source": [
    "import pandas as pd\n",
    "pd.options.display.max_columns = None\n",
    "pd.options.display.max_rows = 20"
   ]
  },
  {
   "attachments": {},
   "cell_type": "markdown",
   "metadata": {},
   "source": [
    "# Import and Set Up Spotipy"
   ]
  },
  {
   "cell_type": "code",
   "execution_count": 8,
   "metadata": {},
   "outputs": [],
   "source": [
    "import spotipy\n",
    "from spotipy.oauth2 import SpotifyClientCredentials\n",
    "cid = '78e434819ce74de2a9da9bd344483f65'\n",
    "secret = '4bc5580d98ae45f087b511650c3e9d0b'\n",
    "client_credentials_manager = SpotifyClientCredentials(client_id=cid, client_secret=secret)\n",
    "sp = spotipy.Spotify(client_credentials_manager = client_credentials_manager)"
   ]
  },
  {
   "attachments": {},
   "cell_type": "markdown",
   "metadata": {},
   "source": [
    "# Retrieve Data from Spotify Web API"
   ]
  },
  {
   "cell_type": "code",
   "execution_count": 9,
   "metadata": {},
   "outputs": [
    {
     "data": {
      "text/plain": [
       "['acoustic',\n",
       " 'afrobeat',\n",
       " 'alt-rock',\n",
       " 'alternative',\n",
       " 'ambient',\n",
       " 'anime',\n",
       " 'black-metal',\n",
       " 'bluegrass',\n",
       " 'blues',\n",
       " 'bossanova',\n",
       " 'brazil',\n",
       " 'breakbeat',\n",
       " 'british',\n",
       " 'cantopop',\n",
       " 'chicago-house',\n",
       " 'children',\n",
       " 'chill',\n",
       " 'classical',\n",
       " 'club',\n",
       " 'comedy',\n",
       " 'country',\n",
       " 'dance',\n",
       " 'dancehall',\n",
       " 'death-metal',\n",
       " 'deep-house',\n",
       " 'detroit-techno',\n",
       " 'disco',\n",
       " 'disney',\n",
       " 'drum-and-bass',\n",
       " 'dub',\n",
       " 'dubstep',\n",
       " 'edm',\n",
       " 'electro',\n",
       " 'electronic',\n",
       " 'emo',\n",
       " 'folk',\n",
       " 'forro',\n",
       " 'french',\n",
       " 'funk',\n",
       " 'garage',\n",
       " 'german',\n",
       " 'gospel',\n",
       " 'goth',\n",
       " 'grindcore',\n",
       " 'groove',\n",
       " 'grunge',\n",
       " 'guitar',\n",
       " 'happy',\n",
       " 'hard-rock',\n",
       " 'hardcore',\n",
       " 'hardstyle',\n",
       " 'heavy-metal',\n",
       " 'hip-hop',\n",
       " 'holidays',\n",
       " 'honky-tonk',\n",
       " 'house',\n",
       " 'idm',\n",
       " 'indian',\n",
       " 'indie',\n",
       " 'indie-pop',\n",
       " 'industrial',\n",
       " 'iranian',\n",
       " 'j-dance',\n",
       " 'j-idol',\n",
       " 'j-pop',\n",
       " 'j-rock',\n",
       " 'jazz',\n",
       " 'k-pop',\n",
       " 'kids',\n",
       " 'latin',\n",
       " 'latino',\n",
       " 'malay',\n",
       " 'mandopop',\n",
       " 'metal',\n",
       " 'metal-misc',\n",
       " 'metalcore',\n",
       " 'minimal-techno',\n",
       " 'movies',\n",
       " 'mpb',\n",
       " 'new-age',\n",
       " 'new-release',\n",
       " 'opera',\n",
       " 'pagode',\n",
       " 'party',\n",
       " 'philippines-opm',\n",
       " 'piano',\n",
       " 'pop',\n",
       " 'pop-film',\n",
       " 'post-dubstep',\n",
       " 'power-pop',\n",
       " 'progressive-house',\n",
       " 'psych-rock',\n",
       " 'punk',\n",
       " 'punk-rock',\n",
       " 'r-n-b',\n",
       " 'rainy-day',\n",
       " 'reggae',\n",
       " 'reggaeton',\n",
       " 'road-trip',\n",
       " 'rock',\n",
       " 'rock-n-roll',\n",
       " 'rockabilly',\n",
       " 'romance',\n",
       " 'sad',\n",
       " 'salsa',\n",
       " 'samba',\n",
       " 'sertanejo',\n",
       " 'show-tunes',\n",
       " 'singer-songwriter',\n",
       " 'ska',\n",
       " 'sleep',\n",
       " 'songwriter',\n",
       " 'soul',\n",
       " 'soundtracks',\n",
       " 'spanish',\n",
       " 'study',\n",
       " 'summer',\n",
       " 'swedish',\n",
       " 'synth-pop',\n",
       " 'tango',\n",
       " 'techno',\n",
       " 'trance',\n",
       " 'trip-hop',\n",
       " 'turkish',\n",
       " 'work-out',\n",
       " 'world-music']"
      ]
     },
     "execution_count": 9,
     "metadata": {},
     "output_type": "execute_result"
    }
   ],
   "source": [
    "seeds = sp.recommendation_genre_seeds()\n",
    "seeds['genres']"
   ]
  },
  {
   "cell_type": "code",
   "execution_count": 10,
   "metadata": {},
   "outputs": [
    {
     "name": "stdout",
     "output_type": "stream",
     "text": [
      "4\n"
     ]
    }
   ],
   "source": [
    "import time\n",
    "\n",
    "artist_name = []\n",
    "album_name = []\n",
    "album_id = []\n",
    "track_name = []\n",
    "track_id = []\n",
    "popularity = []\n",
    "release_date = []\n",
    "duration_ms = []\n",
    "explicit = []\n",
    "external_urls = []\n",
    "is_local = []\n",
    "preview_url = []\n",
    "track_number = []\n",
    "audio_features = []\n",
    "genre = []\n",
    "\n",
    "\n",
    "try:\n",
    "    for k,i in enumerate(range(0,1000,50)):\n",
    "           \n",
    "           count = 1\n",
    "           for s in seeds['genres']:\n",
    "                start_time = time.time()\n",
    "                track_results = sp.search(q=f'year:2022 genre:{s}' , type='track', offset=i, limit=50)   \n",
    "                for j, t in enumerate(track_results['tracks']['items']):\n",
    "                    # Get artist data\n",
    "                    artist_name.append(t['artists'][0]['name'])\n",
    "                    \n",
    "                    # Get album data\n",
    "                    album_name.append(t['album']['name'])\n",
    "                    album_id.append(t['album']['id'])\n",
    "                    release_date.append(t['album']['release_date'])\n",
    "                    \n",
    "                    # Get track data\n",
    "                    track_name.append(t['name'])\n",
    "                    track_id.append(t['id'])\n",
    "                    popularity.append(t['popularity'])\n",
    "                    duration_ms.append(t['duration_ms'])\n",
    "                    explicit.append(t['explicit'])\n",
    "                    external_urls.append(t['external_urls']['spotify'])\n",
    "                    is_local.append(t['is_local'])\n",
    "                    preview_url.append(t['preview_url'])\n",
    "                    track_number.append(t['track_number'])\n",
    "                    genre.append(s)\n",
    "                    \n",
    "                    # Get audio features\n",
    "                    af = sp.audio_features(t['id'])[0]\n",
    "                    audio_features.append(af)\n",
    "                    end_time = time.time()\n",
    "                    \n",
    "                count += 1\n",
    "                print(f'iterate {k+1}/{len(range(0,1000,50))} ---- > genre : {count}/127 (time : {end_time - start_time} sec)')\n",
    "                    \n",
    "\n",
    "except:\n",
    "    print(len(artist_name))"
   ]
  },
  {
   "attachments": {},
   "cell_type": "markdown",
   "metadata": {},
   "source": [
    "#  Load Data into DataFrame for Exploratory Data Analysis"
   ]
  },
  {
   "cell_type": "code",
   "execution_count": null,
   "metadata": {},
   "outputs": [
    {
     "name": "stdout",
     "output_type": "stream",
     "text": [
      "(110158, 15)\n"
     ]
    }
   ],
   "source": [
    "import pandas as pd\n",
    "track_dataframe = pd.DataFrame({\n",
    "    'artist_name': artist_name,\n",
    "    'album_name': album_name,\n",
    "    'album_id': album_id,\n",
    "    'track_name': track_name,\n",
    "    'track_id': track_id,\n",
    "    'popularity': popularity,\n",
    "    'release_date': release_date,\n",
    "    'duration_ms': duration_ms,\n",
    "    'explicit': explicit,\n",
    "    'external_urls': external_urls,\n",
    "    'is_local': is_local,\n",
    "    'preview_url': preview_url,\n",
    "    'track_number': track_number,\n",
    "    'audio_features': audio_features,   \n",
    "    'genre' : genre\n",
    "    })\n",
    "print(track_dataframe.shape)\n"
   ]
  },
  {
   "attachments": {},
   "cell_type": "markdown",
   "metadata": {},
   "source": [
    "# Get audio_features"
   ]
  },
  {
   "cell_type": "code",
   "execution_count": null,
   "metadata": {},
   "outputs": [],
   "source": [
    "# Use pd.json_normalize() to convert the audio_features column to separate columns\n",
    "audio_features_df = pd.json_normalize(track_dataframe['audio_features'])\n",
    "\n",
    "# Add the new columns to the original DataFrame\n",
    "track_dataframe = pd.concat([track_dataframe, audio_features_df], axis=1)\n",
    "\n",
    "# Remove the original audio_features column\n",
    "track_dataframe.drop('audio_features', axis=1, inplace=True)\n",
    "\n"
   ]
  },
  {
   "cell_type": "code",
   "execution_count": null,
   "metadata": {},
   "outputs": [],
   "source": [
    "track_dataframe.to_csv('data/data_5k_lignes_test.csv', index=False)"
   ]
  },
  {
   "cell_type": "code",
   "execution_count": null,
   "metadata": {},
   "outputs": [
    {
     "data": {
      "text/plain": [
       "260"
      ]
     },
     "execution_count": 58,
     "metadata": {},
     "output_type": "execute_result"
    }
   ],
   "source": [
    "track_dataframe[['genre', 'track_id']].duplicated().sum()"
   ]
  },
  {
   "cell_type": "code",
   "execution_count": null,
   "metadata": {},
   "outputs": [],
   "source": [
    "track_dataframe.to_csv('data/data_110k_lignes.csv', index=False)"
   ]
  },
  {
   "cell_type": "code",
   "execution_count": null,
   "metadata": {},
   "outputs": [
    {
     "data": {
      "text/plain": [
       "acoustic          1000\n",
       "metal             1000\n",
       "power-pop         1000\n",
       "pop-film          1000\n",
       "pop               1000\n",
       "                  ... \n",
       "honky-tonk         716\n",
       "grindcore          708\n",
       "chicago-house      524\n",
       "iranian            246\n",
       "detroit-techno     236\n",
       "Name: genre, Length: 113, dtype: int64"
      ]
     },
     "execution_count": 45,
     "metadata": {},
     "output_type": "execute_result"
    }
   ],
   "source": [
    "track_dataframe['genre'].value_counts()"
   ]
  },
  {
   "cell_type": "code",
   "execution_count": null,
   "metadata": {},
   "outputs": [],
   "source": []
  }
 ],
 "metadata": {
  "kernelspec": {
   "display_name": "Python 3",
   "language": "python",
   "name": "python3"
  },
  "language_info": {
   "codemirror_mode": {
    "name": "ipython",
    "version": 3
   },
   "file_extension": ".py",
   "mimetype": "text/x-python",
   "name": "python",
   "nbconvert_exporter": "python",
   "pygments_lexer": "ipython3",
   "version": "3.10.6"
  },
  "orig_nbformat": 4,
  "vscode": {
   "interpreter": {
    "hash": "916dbcbb3f70747c44a77c7bcd40155683ae19c65e1c03b4aa3499c5328201f1"
   }
  }
 },
 "nbformat": 4,
 "nbformat_minor": 2
}
