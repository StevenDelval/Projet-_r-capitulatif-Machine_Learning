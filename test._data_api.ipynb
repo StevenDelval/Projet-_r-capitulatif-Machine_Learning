{
 "cells": [
  {
   "cell_type": "code",
   "execution_count": 2,
   "metadata": {},
   "outputs": [],
   "source": [
    "import spotipy\n",
    "from spotipy.oauth2 import SpotifyClientCredentials"
   ]
  },
  {
   "attachments": {},
   "cell_type": "markdown",
   "metadata": {},
   "source": [
    "# Import and Set Up Spotipy"
   ]
  },
  {
   "cell_type": "code",
   "execution_count": 21,
   "metadata": {},
   "outputs": [],
   "source": [
    "import spotipy\n",
    "from spotipy.oauth2 import SpotifyClientCredentials\n",
    "cid = '7a06f1d458ac41f8b25577e02ec30d62'\n",
    "secret = '2f10949260a449968cb0fa13f1e5a4c9'\n",
    "client_credentials_manager = SpotifyClientCredentials(client_id=cid, client_secret=secret)\n",
    "sp = spotipy.Spotify(client_credentials_manager = client_credentials_manager)"
   ]
  },
  {
   "attachments": {},
   "cell_type": "markdown",
   "metadata": {},
   "source": [
    "# Retrieve Data from Spotify Web API"
   ]
  },
  {
   "cell_type": "code",
   "execution_count": 77,
   "metadata": {},
   "outputs": [],
   "source": [
    "artist_name = []\n",
    "album_name = []\n",
    "album_id = []\n",
    "track_name = []\n",
    "track_id = []\n",
    "popularity = []\n",
    "release_date = []\n",
    "duration_ms = []\n",
    "explicit = []\n",
    "external_urls = []\n",
    "is_local = []\n",
    "preview_url = []\n",
    "track_number = []\n",
    "audio_features = []\n",
    "for i in range(0,1000000,50):\n",
    "    track_results = sp.search(q='year:1980-1989', type='track', offset=i, limit=50)   \n",
    "    for i, t in enumerate(track_results['tracks']['items']):\n",
    "        # Get artist data\n",
    "        artist_name.append(t['artists'][0]['name'])\n",
    "        \n",
    "        # Get album data\n",
    "        album_name.append(t['album']['name'])\n",
    "        album_id.append(t['album']['id'])\n",
    "        release_date.append(t['album']['release_date'])\n",
    "        \n",
    "        # Get track data\n",
    "        track_name.append(t['name'])\n",
    "        track_id.append(t['id'])\n",
    "        popularity.append(t['popularity'])\n",
    "        duration_ms.append(t['duration_ms'])\n",
    "        explicit.append(t['explicit'])\n",
    "        external_urls.append(t['external_urls']['spotify'])\n",
    "        is_local.append(t['is_local'])\n",
    "        preview_url.append(t['preview_url'])\n",
    "        track_number.append(t['track_number'])\n",
    "        \n",
    "        # Get audio features\n",
    "        af = sp.audio_features(t['id'])[0]\n",
    "        audio_features.append(af)"
   ]
  },
  {
   "attachments": {},
   "cell_type": "markdown",
   "metadata": {},
   "source": [
    "#  Load Data into DataFrame for Exploratory Data Analysis"
   ]
  },
  {
   "cell_type": "code",
   "execution_count": 75,
   "metadata": {},
   "outputs": [
    {
     "name": "stdout",
     "output_type": "stream",
     "text": [
      "(20, 14)\n"
     ]
    },
    {
     "data": {
      "text/html": [
       "<div>\n",
       "<style scoped>\n",
       "    .dataframe tbody tr th:only-of-type {\n",
       "        vertical-align: middle;\n",
       "    }\n",
       "\n",
       "    .dataframe tbody tr th {\n",
       "        vertical-align: top;\n",
       "    }\n",
       "\n",
       "    .dataframe thead th {\n",
       "        text-align: right;\n",
       "    }\n",
       "</style>\n",
       "<table border=\"1\" class=\"dataframe\">\n",
       "  <thead>\n",
       "    <tr style=\"text-align: right;\">\n",
       "      <th></th>\n",
       "      <th>artist_name</th>\n",
       "      <th>album_name</th>\n",
       "      <th>album_id</th>\n",
       "      <th>track_name</th>\n",
       "      <th>track_id</th>\n",
       "      <th>popularity</th>\n",
       "      <th>release_date</th>\n",
       "      <th>duration_ms</th>\n",
       "      <th>explicit</th>\n",
       "      <th>external_urls</th>\n",
       "      <th>is_local</th>\n",
       "      <th>preview_url</th>\n",
       "      <th>track_number</th>\n",
       "      <th>audio_features</th>\n",
       "    </tr>\n",
       "  </thead>\n",
       "  <tbody>\n",
       "    <tr>\n",
       "      <th>0</th>\n",
       "      <td>AC/DC</td>\n",
       "      <td>Back In Black</td>\n",
       "      <td>6mUdeDZCsExyJLMdAfDuwh</td>\n",
       "      <td>Back In Black</td>\n",
       "      <td>08mG3Y1vljYA6bvDt4Wqkj</td>\n",
       "      <td>80</td>\n",
       "      <td>1980-07-25</td>\n",
       "      <td>255493</td>\n",
       "      <td>False</td>\n",
       "      <td>https://open.spotify.com/track/08mG3Y1vljYA6bv...</td>\n",
       "      <td>False</td>\n",
       "      <td>https://p.scdn.co/mp3-preview/47f38cd0986156c5...</td>\n",
       "      <td>6</td>\n",
       "      <td>{'danceability': 0.31, 'energy': 0.7, 'key': 9...</td>\n",
       "    </tr>\n",
       "    <tr>\n",
       "      <th>1</th>\n",
       "      <td>AC/DC</td>\n",
       "      <td>Back In Black</td>\n",
       "      <td>6mUdeDZCsExyJLMdAfDuwh</td>\n",
       "      <td>You Shook Me All Night Long</td>\n",
       "      <td>2SiXAy7TuUkycRVbbWDEpo</td>\n",
       "      <td>77</td>\n",
       "      <td>1980-07-25</td>\n",
       "      <td>210173</td>\n",
       "      <td>False</td>\n",
       "      <td>https://open.spotify.com/track/2SiXAy7TuUkycRV...</td>\n",
       "      <td>False</td>\n",
       "      <td>https://p.scdn.co/mp3-preview/b48431262c8f561d...</td>\n",
       "      <td>7</td>\n",
       "      <td>{'danceability': 0.532, 'energy': 0.767, 'key'...</td>\n",
       "    </tr>\n",
       "    <tr>\n",
       "      <th>2</th>\n",
       "      <td>Daryl Hall &amp; John Oates</td>\n",
       "      <td>Voices</td>\n",
       "      <td>4LniALl9S6YedTFdiZWOMS</td>\n",
       "      <td>You Make My Dreams (Come True)</td>\n",
       "      <td>4o6BgsqLIBViaGVbx5rbRk</td>\n",
       "      <td>74</td>\n",
       "      <td>1980</td>\n",
       "      <td>190626</td>\n",
       "      <td>False</td>\n",
       "      <td>https://open.spotify.com/track/4o6BgsqLIBViaGV...</td>\n",
       "      <td>False</td>\n",
       "      <td>https://p.scdn.co/mp3-preview/7559fcc8cbbbb070...</td>\n",
       "      <td>8</td>\n",
       "      <td>{'danceability': 0.751, 'energy': 0.501, 'key'...</td>\n",
       "    </tr>\n",
       "    <tr>\n",
       "      <th>3</th>\n",
       "      <td>Queen</td>\n",
       "      <td>The Game (Deluxe Remastered Version)</td>\n",
       "      <td>6wPXUmYJ9mOWrKlLzZ5cCa</td>\n",
       "      <td>Another One Bites The Dust - Remastered 2011</td>\n",
       "      <td>57JVGBtBLCfHw2muk5416J</td>\n",
       "      <td>69</td>\n",
       "      <td>1980-06-27</td>\n",
       "      <td>214653</td>\n",
       "      <td>False</td>\n",
       "      <td>https://open.spotify.com/track/57JVGBtBLCfHw2m...</td>\n",
       "      <td>False</td>\n",
       "      <td>https://p.scdn.co/mp3-preview/6a499e7f6484c6a9...</td>\n",
       "      <td>3</td>\n",
       "      <td>{'danceability': 0.933, 'energy': 0.528, 'key'...</td>\n",
       "    </tr>\n",
       "    <tr>\n",
       "      <th>4</th>\n",
       "      <td>Dolly Parton</td>\n",
       "      <td>9 To 5 And Odd Jobs</td>\n",
       "      <td>64Ky1tqKPfwxhJs6msphWd</td>\n",
       "      <td>9 to 5</td>\n",
       "      <td>4w3tQBXhn5345eUXDGBWZG</td>\n",
       "      <td>74</td>\n",
       "      <td>1980</td>\n",
       "      <td>162466</td>\n",
       "      <td>False</td>\n",
       "      <td>https://open.spotify.com/track/4w3tQBXhn5345eU...</td>\n",
       "      <td>False</td>\n",
       "      <td>https://p.scdn.co/mp3-preview/835735b4d08b1dd7...</td>\n",
       "      <td>1</td>\n",
       "      <td>{'danceability': 0.554, 'energy': 0.783, 'key'...</td>\n",
       "    </tr>\n",
       "  </tbody>\n",
       "</table>\n",
       "</div>"
      ],
      "text/plain": [
       "               artist_name                            album_name  \\\n",
       "0                    AC/DC                         Back In Black   \n",
       "1                    AC/DC                         Back In Black   \n",
       "2  Daryl Hall & John Oates                                Voices   \n",
       "3                    Queen  The Game (Deluxe Remastered Version)   \n",
       "4             Dolly Parton                   9 To 5 And Odd Jobs   \n",
       "\n",
       "                 album_id                                    track_name  \\\n",
       "0  6mUdeDZCsExyJLMdAfDuwh                                 Back In Black   \n",
       "1  6mUdeDZCsExyJLMdAfDuwh                   You Shook Me All Night Long   \n",
       "2  4LniALl9S6YedTFdiZWOMS                You Make My Dreams (Come True)   \n",
       "3  6wPXUmYJ9mOWrKlLzZ5cCa  Another One Bites The Dust - Remastered 2011   \n",
       "4  64Ky1tqKPfwxhJs6msphWd                                        9 to 5   \n",
       "\n",
       "                 track_id  popularity release_date  duration_ms  explicit  \\\n",
       "0  08mG3Y1vljYA6bvDt4Wqkj          80   1980-07-25       255493     False   \n",
       "1  2SiXAy7TuUkycRVbbWDEpo          77   1980-07-25       210173     False   \n",
       "2  4o6BgsqLIBViaGVbx5rbRk          74         1980       190626     False   \n",
       "3  57JVGBtBLCfHw2muk5416J          69   1980-06-27       214653     False   \n",
       "4  4w3tQBXhn5345eUXDGBWZG          74         1980       162466     False   \n",
       "\n",
       "                                       external_urls  is_local  \\\n",
       "0  https://open.spotify.com/track/08mG3Y1vljYA6bv...     False   \n",
       "1  https://open.spotify.com/track/2SiXAy7TuUkycRV...     False   \n",
       "2  https://open.spotify.com/track/4o6BgsqLIBViaGV...     False   \n",
       "3  https://open.spotify.com/track/57JVGBtBLCfHw2m...     False   \n",
       "4  https://open.spotify.com/track/4w3tQBXhn5345eU...     False   \n",
       "\n",
       "                                         preview_url  track_number  \\\n",
       "0  https://p.scdn.co/mp3-preview/47f38cd0986156c5...             6   \n",
       "1  https://p.scdn.co/mp3-preview/b48431262c8f561d...             7   \n",
       "2  https://p.scdn.co/mp3-preview/7559fcc8cbbbb070...             8   \n",
       "3  https://p.scdn.co/mp3-preview/6a499e7f6484c6a9...             3   \n",
       "4  https://p.scdn.co/mp3-preview/835735b4d08b1dd7...             1   \n",
       "\n",
       "                                      audio_features  \n",
       "0  {'danceability': 0.31, 'energy': 0.7, 'key': 9...  \n",
       "1  {'danceability': 0.532, 'energy': 0.767, 'key'...  \n",
       "2  {'danceability': 0.751, 'energy': 0.501, 'key'...  \n",
       "3  {'danceability': 0.933, 'energy': 0.528, 'key'...  \n",
       "4  {'danceability': 0.554, 'energy': 0.783, 'key'...  "
      ]
     },
     "execution_count": 75,
     "metadata": {},
     "output_type": "execute_result"
    }
   ],
   "source": [
    "import pandas as pd\n",
    "track_dataframe = pd.DataFrame({\n",
    "    'artist_name': artist_name,\n",
    "    'album_name': album_name,\n",
    "    'album_id': album_id,\n",
    "    'track_name': track_name,\n",
    "    'track_id': track_id,\n",
    "    'popularity': popularity,\n",
    "    'release_date': release_date,\n",
    "    'duration_ms': duration_ms,\n",
    "    'explicit': explicit,\n",
    "    'external_urls': external_urls,\n",
    "    'is_local': is_local,\n",
    "    'preview_url': preview_url,\n",
    "    'track_number': track_number,\n",
    "    'audio_features': audio_features   \n",
    "    })\n",
    "print(track_dataframe.shape)\n",
    "track_dataframe.head()"
   ]
  },
  {
   "cell_type": "code",
   "execution_count": null,
   "metadata": {},
   "outputs": [],
   "source": []
  },
  {
   "cell_type": "code",
   "execution_count": null,
   "metadata": {},
   "outputs": [],
   "source": []
  },
  {
   "cell_type": "code",
   "execution_count": 52,
   "metadata": {},
   "outputs": [],
   "source": [
    "track_results = sp.search(q='year:1980', type='track', limit=1)"
   ]
  },
  {
   "cell_type": "code",
   "execution_count": 63,
   "metadata": {},
   "outputs": [
    {
     "name": "stdout",
     "output_type": "stream",
     "text": [
      "album_type\n",
      "artists\n",
      "available_markets\n",
      "external_urls\n",
      "href\n",
      "id\n",
      "images\n",
      "name\n",
      "release_date\n",
      "release_date_precision\n",
      "total_tracks\n",
      "type\n",
      "uri\n"
     ]
    }
   ],
   "source": [
    "for i in track_results['tracks']['items'][0]['album'].keys():\n",
    "    print(i)"
   ]
  },
  {
   "cell_type": "code",
   "execution_count": 68,
   "metadata": {},
   "outputs": [
    {
     "data": {
      "text/plain": [
       "[None]"
      ]
     },
     "execution_count": 68,
     "metadata": {},
     "output_type": "execute_result"
    }
   ],
   "source": []
  },
  {
   "cell_type": "code",
   "execution_count": 72,
   "metadata": {},
   "outputs": [
    {
     "name": "stdout",
     "output_type": "stream",
     "text": [
      "               artist_name                            album_name  \\\n",
      "0                    AC/DC                         Back In Black   \n",
      "1                    AC/DC                         Back In Black   \n",
      "2  Daryl Hall & John Oates                                Voices   \n",
      "3                    Queen  The Game (Deluxe Remastered Version)   \n",
      "4             Dolly Parton                   9 To 5 And Odd Jobs   \n",
      "\n",
      "                 album_id                                    track_name  \\\n",
      "0  6mUdeDZCsExyJLMdAfDuwh                                 Back In Black   \n",
      "1  6mUdeDZCsExyJLMdAfDuwh                   You Shook Me All Night Long   \n",
      "2  4LniALl9S6YedTFdiZWOMS                You Make My Dreams (Come True)   \n",
      "3  6wPXUmYJ9mOWrKlLzZ5cCa  Another One Bites The Dust - Remastered 2011   \n",
      "4  64Ky1tqKPfwxhJs6msphWd                                        9 to 5   \n",
      "\n",
      "                 track_id  popularity release_date  duration_ms  explicit  \\\n",
      "0  08mG3Y1vljYA6bvDt4Wqkj          80   1980-07-25       255493     False   \n",
      "1  2SiXAy7TuUkycRVbbWDEpo          77   1980-07-25       210173     False   \n",
      "2  4o6BgsqLIBViaGVbx5rbRk          74         1980       190626     False   \n",
      "3  57JVGBtBLCfHw2muk5416J          69   1980-06-27       214653     False   \n",
      "4  4w3tQBXhn5345eUXDGBWZG          74         1980       162466     False   \n",
      "\n",
      "                                       external_urls  is_local  \\\n",
      "0  https://open.spotify.com/track/08mG3Y1vljYA6bv...     False   \n",
      "1  https://open.spotify.com/track/2SiXAy7TuUkycRV...     False   \n",
      "2  https://open.spotify.com/track/4o6BgsqLIBViaGV...     False   \n",
      "3  https://open.spotify.com/track/57JVGBtBLCfHw2m...     False   \n",
      "4  https://open.spotify.com/track/4w3tQBXhn5345eU...     False   \n",
      "\n",
      "                                         preview_url  track_number  \\\n",
      "0  https://p.scdn.co/mp3-preview/47f38cd0986156c5...             6   \n",
      "1  https://p.scdn.co/mp3-preview/b48431262c8f561d...             7   \n",
      "2  https://p.scdn.co/mp3-preview/7559fcc8cbbbb070...             8   \n",
      "3  https://p.scdn.co/mp3-preview/6a499e7f6484c6a9...             3   \n",
      "4  https://p.scdn.co/mp3-preview/835735b4d08b1dd7...             1   \n",
      "\n",
      "                                      audio_features  \n",
      "0  {'danceability': 0.31, 'energy': 0.7, 'key': 9...  \n",
      "1  {'danceability': 0.532, 'energy': 0.767, 'key'...  \n",
      "2  {'danceability': 0.751, 'energy': 0.501, 'key'...  \n",
      "3  {'danceability': 0.933, 'energy': 0.528, 'key'...  \n",
      "4  {'danceability': 0.554, 'energy': 0.783, 'key'...  \n"
     ]
    }
   ],
   "source": [
    "# Create a Spotify client object\n",
    "client_credentials_manager = SpotifyClientCredentials(client_id=cid, client_secret=secret)\n",
    "sp = spotipy.Spotify(client_credentials_manager=client_credentials_manager)\n",
    "\n",
    "# Get the track IDs from the DataFrame\n",
    "track_ids = track_dataframe['track_id']\n",
    "\n",
    "# Create an empty list for the audio features\n",
    "audio_features = []\n",
    "\n",
    "# Loop over the track IDs and get the audio features for each track\n",
    "for track_id in track_ids:\n",
    "    af = sp.audio_features(track_id)\n",
    "    audio_features.append(af[0])\n",
    "\n",
    "# Add the audio features to the DataFrame\n",
    "track_dataframe['audio_features'] = audio_features\n",
    "\n",
    "# Display the updated DataFrame\n",
    "print(track_dataframe.head())"
   ]
  },
  {
   "cell_type": "code",
   "execution_count": null,
   "metadata": {},
   "outputs": [],
   "source": []
  }
 ],
 "metadata": {
  "kernelspec": {
   "display_name": "test",
   "language": "python",
   "name": "python3"
  },
  "language_info": {
   "codemirror_mode": {
    "name": "ipython",
    "version": 3
   },
   "file_extension": ".py",
   "mimetype": "text/x-python",
   "name": "python",
   "nbconvert_exporter": "python",
   "pygments_lexer": "ipython3",
   "version": "3.10.9"
  },
  "orig_nbformat": 4,
  "vscode": {
   "interpreter": {
    "hash": "f5aca569d7e59664e09a6eb0e4f3458a686036a83fffbe08d2ff9f65e2d143ad"
   }
  }
 },
 "nbformat": 4,
 "nbformat_minor": 2
}
