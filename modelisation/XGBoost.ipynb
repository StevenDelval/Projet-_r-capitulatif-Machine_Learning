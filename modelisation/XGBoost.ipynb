{
 "cells": [
  {
   "attachments": {},
   "cell_type": "markdown",
   "metadata": {},
   "source": [
    "# import packages"
   ]
  },
  {
   "cell_type": "code",
   "execution_count": 26,
   "metadata": {},
   "outputs": [],
   "source": [
    "import pandas as pd\n",
    "\n",
    "from sklearn.compose import make_column_selector, ColumnTransformer, make_column_transformer\n",
    "# sklearn.compose: The sklearn.compose module is a submodule of the sklearn library for machine learning in Python. It provides functions for creating complex preprocessing and modeling pipelines.\n",
    "from sklearn.preprocessing import OneHotEncoder,StandardScaler,PolynomialFeatures,RobustScaler\n",
    "#sklearn.preprocessing: The sklearn.preprocessing module is a submodule of the sklearn library that provides functions for preprocessing data, such as scaling and normalizing features, imputing missing values, and encoding categorical variables.\n",
    "from sklearn.linear_model import Ridge,LinearRegression,Lasso, ElasticNet\n",
    "# sklearn.linear_model: The sklearn.linear_model module is a submodule of the sklearn library that provides functions for fitting linear models for regression and classification.\n",
    "from sklearn.pipeline import make_pipeline\n",
    "# sklearn.pipeline: The sklearn.pipeline module is a submodule of the sklearn library that provides functions for creating and working with pipelines of transformers and models.\n",
    "from sklearn.model_selection import train_test_split,GridSearchCV,learning_curve, RandomizedSearchCV, cross_val_score, KFold\n",
    "# sklearn.model_selection: The sklearn.model_selection module is a submodule of the sklearn library that provides functions for splitting data into training and test sets, evaluating models using cross-validation, and hyperparameter tuning.\n",
    "from sklearn.dummy import DummyRegressor\n",
    "# sklearn.dummy: The sklearn.dummy module is a submodule of the sklearn library that provides simple dummy models for regression and classification.\n",
    "\n",
    "\n",
    "from sklearn.impute import SimpleImputer\n",
    "import numpy as np\n",
    "\n",
    "from sklearn.ensemble import RandomForestClassifier\n"
   ]
  },
  {
   "attachments": {},
   "cell_type": "markdown",
   "metadata": {},
   "source": [
    "# Read data"
   ]
  },
  {
   "cell_type": "code",
   "execution_count": 27,
   "metadata": {},
   "outputs": [],
   "source": [
    "try:\n",
    "    df = pd.read_csv('data/data_110k_lignes.csv')\n",
    "except:\n",
    "    print(\"Error: no such file csv\")\n"
   ]
  },
  {
   "cell_type": "code",
   "execution_count": 28,
   "metadata": {},
   "outputs": [],
   "source": [
    "df['explicit'] = df['explicit'].apply(lambda x : 0 if x == False else 1)\n",
    "df['is_local'] = df['is_local'].apply(lambda x : 0 if x == False else 1)\n",
    "del df['is_local']"
   ]
  },
  {
   "attachments": {},
   "cell_type": "markdown",
   "metadata": {},
   "source": [
    "# Rmove \"Unnamed: 0\" column"
   ]
  },
  {
   "cell_type": "code",
   "execution_count": 29,
   "metadata": {},
   "outputs": [],
   "source": [
    "try:\n",
    "    df.drop('Unnamed: 0', axis=1, inplace=True)\n",
    "except:\n",
    "    print(\"No such column\")"
   ]
  },
  {
   "attachments": {},
   "cell_type": "markdown",
   "metadata": {},
   "source": [
    "# Remove duplicates"
   ]
  },
  {
   "cell_type": "code",
   "execution_count": 30,
   "metadata": {},
   "outputs": [],
   "source": [
    "df = df.drop_duplicates()\n",
    "\n"
   ]
  },
  {
   "attachments": {},
   "cell_type": "markdown",
   "metadata": {},
   "source": [
    "# Préparation à la modélisation"
   ]
  },
  {
   "cell_type": "code",
   "execution_count": 31,
   "metadata": {},
   "outputs": [],
   "source": [
    "X = df.drop('popularity', axis=1)\n",
    "y = df['popularity']"
   ]
  },
  {
   "cell_type": "code",
   "execution_count": 32,
   "metadata": {},
   "outputs": [],
   "source": [
    "X = X[[col for col in X.columns if X[col].dtype != 'object' or col == 'genre']]"
   ]
  },
  {
   "cell_type": "code",
   "execution_count": 33,
   "metadata": {},
   "outputs": [],
   "source": [
    "def make_pipeline_to_ML(X,y):\n",
    "    X_train, X_test, y_train, y_test = train_test_split(X, y, shuffle=True, train_size=0.8, random_state=42)\n",
    "    numerical_features = make_column_selector(dtype_include=np.number)\n",
    "    categorical_features = make_column_selector(dtype_exclude= np.number)\n",
    "    numerical_pipeline = make_pipeline(StandardScaler(with_mean=False))\n",
    "    categorical_pipeline = make_pipeline(OneHotEncoder(handle_unknown='ignore'))\n",
    "    preprocessor = make_column_transformer((numerical_pipeline, numerical_features),\n",
    "                                    (categorical_pipeline, categorical_features)\n",
    "                                    )\n",
    "    return preprocessor, X_train, X_test, y_train, y_test\n",
    "\n",
    "\n",
    "# Create the pipeline\n",
    "preprocessor, X_train, X_test, y_train, y_test = make_pipeline_to_ML(X,y)"
   ]
  },
  {
   "cell_type": "code",
   "execution_count": 34,
   "metadata": {},
   "outputs": [],
   "source": [
    "from xgboost import XGBRegressor\n",
    "xgb_model = make_pipeline(preprocessor, XGBRegressor(random_state=42, tree_method = 'hist'))\n",
    "params = {\n",
    "        'xgbregressor__max_depth':[1,5,10,15], \n",
    "        'xgbregressor__n_estimators' : [100,200],\n",
    "        'xgbregressor__learning_rate' : [0.1,0.2, 0.3,0.4],\n",
    "        }\n",
    " # Create the grid search object\n",
    "grid_seargrid_search_xgboost = GridSearchCV(xgb_model, params, cv=5, n_jobs = -1, verbose=4)"
   ]
  },
  {
   "cell_type": "code",
   "execution_count": 35,
   "metadata": {},
   "outputs": [
    {
     "name": "stdout",
     "output_type": "stream",
     "text": [
      "Fitting 5 folds for each of 32 candidates, totalling 160 fits\n",
      "[CV 2/5] END xgbregressor__learning_rate=0.1, xgbregressor__max_depth=1, xgbregressor__n_estimators=100;, score=0.309 total time=   1.1s\n",
      "[CV 1/5] END xgbregressor__learning_rate=0.1, xgbregressor__max_depth=1, xgbregressor__n_estimators=100;, score=0.311 total time=   1.1s\n",
      "[CV 4/5] END xgbregressor__learning_rate=0.1, xgbregressor__max_depth=1, xgbregressor__n_estimators=100;, score=0.303 total time=   1.1s\n",
      "[CV 5/5] END xgbregressor__learning_rate=0.1, xgbregressor__max_depth=1, xgbregressor__n_estimators=100;, score=0.302 total time=   1.3s\n",
      "[CV 3/5] END xgbregressor__learning_rate=0.1, xgbregressor__max_depth=1, xgbregressor__n_estimators=100;, score=0.305 total time=   1.5s\n",
      "[CV 4/5] END xgbregressor__learning_rate=0.1, xgbregressor__max_depth=1, xgbregressor__n_estimators=200;, score=0.417 total time=   1.7s\n",
      "[CV 1/5] END xgbregressor__learning_rate=0.1, xgbregressor__max_depth=1, xgbregressor__n_estimators=200;, score=0.427 total time=   1.5s\n",
      "[CV 5/5] END xgbregressor__learning_rate=0.1, xgbregressor__max_depth=1, xgbregressor__n_estimators=200;, score=0.415 total time=   1.7s\n",
      "[CV 2/5] END xgbregressor__learning_rate=0.1, xgbregressor__max_depth=1, xgbregressor__n_estimators=200;, score=0.426 total time=   1.5s\n",
      "[CV 3/5] END xgbregressor__learning_rate=0.1, xgbregressor__max_depth=1, xgbregressor__n_estimators=200;, score=0.419 total time=   1.8s\n",
      "[CV 1/5] END xgbregressor__learning_rate=0.1, xgbregressor__max_depth=5, xgbregressor__n_estimators=100;, score=0.620 total time=   2.1s\n",
      "[CV 2/5] END xgbregressor__learning_rate=0.1, xgbregressor__max_depth=5, xgbregressor__n_estimators=100;, score=0.620 total time=   2.0s\n",
      "[CV 3/5] END xgbregressor__learning_rate=0.1, xgbregressor__max_depth=5, xgbregressor__n_estimators=100;, score=0.607 total time=   1.9s\n",
      "[CV 4/5] END xgbregressor__learning_rate=0.1, xgbregressor__max_depth=5, xgbregressor__n_estimators=100;, score=0.606 total time=   1.8s\n",
      "[CV 5/5] END xgbregressor__learning_rate=0.1, xgbregressor__max_depth=5, xgbregressor__n_estimators=100;, score=0.605 total time=   2.2s\n",
      "[CV 2/5] END xgbregressor__learning_rate=0.1, xgbregressor__max_depth=5, xgbregressor__n_estimators=200;, score=0.703 total time=   3.2s\n",
      "[CV 3/5] END xgbregressor__learning_rate=0.1, xgbregressor__max_depth=5, xgbregressor__n_estimators=200;, score=0.690 total time=   3.1s\n",
      "[CV 5/5] END xgbregressor__learning_rate=0.1, xgbregressor__max_depth=5, xgbregressor__n_estimators=200;, score=0.688 total time=   3.2s\n",
      "[CV 1/5] END xgbregressor__learning_rate=0.1, xgbregressor__max_depth=5, xgbregressor__n_estimators=200;, score=0.702 total time=   3.7s\n",
      "[CV 4/5] END xgbregressor__learning_rate=0.1, xgbregressor__max_depth=5, xgbregressor__n_estimators=200;, score=0.690 total time=   3.6s\n",
      "[CV 1/5] END xgbregressor__learning_rate=0.1, xgbregressor__max_depth=10, xgbregressor__n_estimators=100;, score=0.713 total time=   6.6s\n",
      "[CV 2/5] END xgbregressor__learning_rate=0.1, xgbregressor__max_depth=10, xgbregressor__n_estimators=100;, score=0.712 total time=   6.8s\n",
      "[CV 3/5] END xgbregressor__learning_rate=0.1, xgbregressor__max_depth=10, xgbregressor__n_estimators=100;, score=0.701 total time=   6.8s\n",
      "[CV 4/5] END xgbregressor__learning_rate=0.1, xgbregressor__max_depth=10, xgbregressor__n_estimators=100;, score=0.700 total time=   6.1s\n",
      "[CV 5/5] END xgbregressor__learning_rate=0.1, xgbregressor__max_depth=10, xgbregressor__n_estimators=100;, score=0.697 total time=   7.4s\n",
      "[CV 3/5] END xgbregressor__learning_rate=0.1, xgbregressor__max_depth=10, xgbregressor__n_estimators=200;, score=0.733 total time=  13.2s\n",
      "[CV 2/5] END xgbregressor__learning_rate=0.1, xgbregressor__max_depth=10, xgbregressor__n_estimators=200;, score=0.743 total time=  14.3s\n",
      "[CV 1/5] END xgbregressor__learning_rate=0.1, xgbregressor__max_depth=10, xgbregressor__n_estimators=200;, score=0.746 total time=  14.5s\n",
      "[CV 4/5] END xgbregressor__learning_rate=0.1, xgbregressor__max_depth=10, xgbregressor__n_estimators=200;, score=0.732 total time=  12.9s\n",
      "[CV 5/5] END xgbregressor__learning_rate=0.1, xgbregressor__max_depth=10, xgbregressor__n_estimators=200;, score=0.730 total time=  13.4s\n",
      "[CV 1/5] END xgbregressor__learning_rate=0.1, xgbregressor__max_depth=15, xgbregressor__n_estimators=100;, score=0.736 total time=  21.6s\n",
      "[CV 2/5] END xgbregressor__learning_rate=0.1, xgbregressor__max_depth=15, xgbregressor__n_estimators=100;, score=0.734 total time=  22.2s\n",
      "[CV 3/5] END xgbregressor__learning_rate=0.1, xgbregressor__max_depth=15, xgbregressor__n_estimators=100;, score=0.724 total time=  24.3s\n",
      "[CV 1/5] END xgbregressor__learning_rate=0.2, xgbregressor__max_depth=1, xgbregressor__n_estimators=100;, score=0.437 total time=   1.2s\n",
      "[CV 2/5] END xgbregressor__learning_rate=0.2, xgbregressor__max_depth=1, xgbregressor__n_estimators=100;, score=0.435 total time=   1.1s\n",
      "[CV 3/5] END xgbregressor__learning_rate=0.2, xgbregressor__max_depth=1, xgbregressor__n_estimators=100;, score=0.428 total time=   1.1s\n",
      "[CV 4/5] END xgbregressor__learning_rate=0.2, xgbregressor__max_depth=1, xgbregressor__n_estimators=100;, score=0.426 total time=   1.3s\n",
      "[CV 5/5] END xgbregressor__learning_rate=0.1, xgbregressor__max_depth=15, xgbregressor__n_estimators=100;, score=0.719 total time=  22.7s\n",
      "[CV 4/5] END xgbregressor__learning_rate=0.1, xgbregressor__max_depth=15, xgbregressor__n_estimators=100;, score=0.722 total time=  23.5s\n",
      "[CV 5/5] END xgbregressor__learning_rate=0.2, xgbregressor__max_depth=1, xgbregressor__n_estimators=100;, score=0.422 total time=   1.1s\n",
      "[CV 1/5] END xgbregressor__learning_rate=0.2, xgbregressor__max_depth=1, xgbregressor__n_estimators=200;, score=0.562 total time=   1.5s\n",
      "[CV 2/5] END xgbregressor__learning_rate=0.2, xgbregressor__max_depth=1, xgbregressor__n_estimators=200;, score=0.562 total time=   1.7s\n",
      "[CV 3/5] END xgbregressor__learning_rate=0.2, xgbregressor__max_depth=1, xgbregressor__n_estimators=200;, score=0.553 total time=   1.7s\n",
      "[CV 4/5] END xgbregressor__learning_rate=0.2, xgbregressor__max_depth=1, xgbregressor__n_estimators=200;, score=0.551 total time=   1.5s\n",
      "[CV 5/5] END xgbregressor__learning_rate=0.2, xgbregressor__max_depth=1, xgbregressor__n_estimators=200;, score=0.548 total time=   1.7s\n",
      "[CV 1/5] END xgbregressor__learning_rate=0.2, xgbregressor__max_depth=5, xgbregressor__n_estimators=100;, score=0.704 total time=   1.9s\n",
      "[CV 2/5] END xgbregressor__learning_rate=0.2, xgbregressor__max_depth=5, xgbregressor__n_estimators=100;, score=0.705 total time=   1.7s\n",
      "[CV 3/5] END xgbregressor__learning_rate=0.2, xgbregressor__max_depth=5, xgbregressor__n_estimators=100;, score=0.692 total time=   2.0s\n",
      "[CV 4/5] END xgbregressor__learning_rate=0.2, xgbregressor__max_depth=5, xgbregressor__n_estimators=100;, score=0.691 total time=   2.3s\n",
      "[CV 5/5] END xgbregressor__learning_rate=0.2, xgbregressor__max_depth=5, xgbregressor__n_estimators=100;, score=0.690 total time=   1.9s\n",
      "[CV 1/5] END xgbregressor__learning_rate=0.2, xgbregressor__max_depth=5, xgbregressor__n_estimators=200;, score=0.743 total time=   3.9s\n",
      "[CV 2/5] END xgbregressor__learning_rate=0.2, xgbregressor__max_depth=5, xgbregressor__n_estimators=200;, score=0.742 total time=   3.7s\n",
      "[CV 3/5] END xgbregressor__learning_rate=0.2, xgbregressor__max_depth=5, xgbregressor__n_estimators=200;, score=0.730 total time=   3.7s\n",
      "[CV 5/5] END xgbregressor__learning_rate=0.2, xgbregressor__max_depth=5, xgbregressor__n_estimators=200;, score=0.728 total time=   3.8s\n",
      "[CV 4/5] END xgbregressor__learning_rate=0.2, xgbregressor__max_depth=5, xgbregressor__n_estimators=200;, score=0.730 total time=   4.4s\n",
      "[CV 1/5] END xgbregressor__learning_rate=0.2, xgbregressor__max_depth=10, xgbregressor__n_estimators=100;, score=0.739 total time=   7.4s\n",
      "[CV 3/5] END xgbregressor__learning_rate=0.2, xgbregressor__max_depth=10, xgbregressor__n_estimators=100;, score=0.729 total time=   5.9s\n",
      "[CV 2/5] END xgbregressor__learning_rate=0.2, xgbregressor__max_depth=10, xgbregressor__n_estimators=100;, score=0.738 total time=   6.8s\n",
      "[CV 2/5] END xgbregressor__learning_rate=0.1, xgbregressor__max_depth=15, xgbregressor__n_estimators=200;, score=0.746 total time=  41.5s\n",
      "[CV 1/5] END xgbregressor__learning_rate=0.1, xgbregressor__max_depth=15, xgbregressor__n_estimators=200;, score=0.747 total time=  43.8s\n",
      "[CV 3/5] END xgbregressor__learning_rate=0.1, xgbregressor__max_depth=15, xgbregressor__n_estimators=200;, score=0.735 total time=  42.5s\n",
      "[CV 4/5] END xgbregressor__learning_rate=0.2, xgbregressor__max_depth=10, xgbregressor__n_estimators=100;, score=0.729 total time=   5.7s\n",
      "[CV 5/5] END xgbregressor__learning_rate=0.2, xgbregressor__max_depth=10, xgbregressor__n_estimators=100;, score=0.727 total time=   6.1s\n",
      "[CV 4/5] END xgbregressor__learning_rate=0.1, xgbregressor__max_depth=15, xgbregressor__n_estimators=200;, score=0.733 total time=  38.5s\n",
      "[CV 5/5] END xgbregressor__learning_rate=0.1, xgbregressor__max_depth=15, xgbregressor__n_estimators=200;, score=0.731 total time=  40.7s\n",
      "[CV 2/5] END xgbregressor__learning_rate=0.2, xgbregressor__max_depth=10, xgbregressor__n_estimators=200;, score=0.744 total time=  11.5s\n",
      "[CV 3/5] END xgbregressor__learning_rate=0.2, xgbregressor__max_depth=10, xgbregressor__n_estimators=200;, score=0.739 total time=  11.2s\n",
      "[CV 5/5] END xgbregressor__learning_rate=0.2, xgbregressor__max_depth=10, xgbregressor__n_estimators=200;, score=0.737 total time=  11.7s\n",
      "[CV 1/5] END xgbregressor__learning_rate=0.2, xgbregressor__max_depth=10, xgbregressor__n_estimators=200;, score=0.747 total time=  14.7s\n",
      "[CV 4/5] END xgbregressor__learning_rate=0.2, xgbregressor__max_depth=10, xgbregressor__n_estimators=200;, score=0.737 total time=  11.9s\n",
      "[CV 1/5] END xgbregressor__learning_rate=0.2, xgbregressor__max_depth=15, xgbregressor__n_estimators=100;, score=0.738 total time=  17.8s\n",
      "[CV 2/5] END xgbregressor__learning_rate=0.2, xgbregressor__max_depth=15, xgbregressor__n_estimators=100;, score=0.740 total time=  18.2s\n",
      "[CV 3/5] END xgbregressor__learning_rate=0.2, xgbregressor__max_depth=15, xgbregressor__n_estimators=100;, score=0.729 total time=  18.1s\n",
      "[CV 5/5] END xgbregressor__learning_rate=0.2, xgbregressor__max_depth=15, xgbregressor__n_estimators=100;, score=0.725 total time=  18.2s\n",
      "[CV 1/5] END xgbregressor__learning_rate=0.3, xgbregressor__max_depth=1, xgbregressor__n_estimators=100;, score=0.517 total time=   1.1s\n",
      "[CV 2/5] END xgbregressor__learning_rate=0.3, xgbregressor__max_depth=1, xgbregressor__n_estimators=100;, score=0.518 total time=   1.0s\n",
      "[CV 3/5] END xgbregressor__learning_rate=0.3, xgbregressor__max_depth=1, xgbregressor__n_estimators=100;, score=0.510 total time=   1.2s\n",
      "[CV 4/5] END xgbregressor__learning_rate=0.3, xgbregressor__max_depth=1, xgbregressor__n_estimators=100;, score=0.507 total time=   1.0s\n",
      "[CV 5/5] END xgbregressor__learning_rate=0.3, xgbregressor__max_depth=1, xgbregressor__n_estimators=100;, score=0.505 total time=   1.0s\n",
      "[CV 1/5] END xgbregressor__learning_rate=0.3, xgbregressor__max_depth=1, xgbregressor__n_estimators=200;, score=0.634 total time=   1.5s\n",
      "[CV 2/5] END xgbregressor__learning_rate=0.3, xgbregressor__max_depth=1, xgbregressor__n_estimators=200;, score=0.633 total time=   1.4s\n",
      "[CV 4/5] END xgbregressor__learning_rate=0.2, xgbregressor__max_depth=15, xgbregressor__n_estimators=100;, score=0.726 total time=  22.7s\n",
      "[CV 3/5] END xgbregressor__learning_rate=0.3, xgbregressor__max_depth=1, xgbregressor__n_estimators=200;, score=0.624 total time=   1.4s\n",
      "[CV 4/5] END xgbregressor__learning_rate=0.3, xgbregressor__max_depth=1, xgbregressor__n_estimators=200;, score=0.622 total time=   1.8s\n",
      "[CV 5/5] END xgbregressor__learning_rate=0.3, xgbregressor__max_depth=1, xgbregressor__n_estimators=200;, score=0.619 total time=   1.4s\n",
      "[CV 1/5] END xgbregressor__learning_rate=0.3, xgbregressor__max_depth=5, xgbregressor__n_estimators=100;, score=0.729 total time=   1.9s\n",
      "[CV 3/5] END xgbregressor__learning_rate=0.3, xgbregressor__max_depth=5, xgbregressor__n_estimators=100;, score=0.718 total time=   1.8s\n",
      "[CV 2/5] END xgbregressor__learning_rate=0.3, xgbregressor__max_depth=5, xgbregressor__n_estimators=100;, score=0.731 total time=   2.1s\n",
      "[CV 4/5] END xgbregressor__learning_rate=0.3, xgbregressor__max_depth=5, xgbregressor__n_estimators=100;, score=0.720 total time=   1.8s\n",
      "[CV 5/5] END xgbregressor__learning_rate=0.3, xgbregressor__max_depth=5, xgbregressor__n_estimators=100;, score=0.717 total time=   1.9s\n",
      "[CV 1/5] END xgbregressor__learning_rate=0.3, xgbregressor__max_depth=5, xgbregressor__n_estimators=200;, score=0.749 total time=   3.4s\n",
      "[CV 2/5] END xgbregressor__learning_rate=0.3, xgbregressor__max_depth=5, xgbregressor__n_estimators=200;, score=0.749 total time=   3.2s\n",
      "[CV 3/5] END xgbregressor__learning_rate=0.3, xgbregressor__max_depth=5, xgbregressor__n_estimators=200;, score=0.737 total time=   3.3s\n",
      "[CV 4/5] END xgbregressor__learning_rate=0.3, xgbregressor__max_depth=5, xgbregressor__n_estimators=200;, score=0.740 total time=   3.5s\n",
      "[CV 5/5] END xgbregressor__learning_rate=0.3, xgbregressor__max_depth=5, xgbregressor__n_estimators=200;, score=0.736 total time=   3.3s\n",
      "[CV 1/5] END xgbregressor__learning_rate=0.3, xgbregressor__max_depth=10, xgbregressor__n_estimators=100;, score=0.741 total time=   7.1s\n",
      "[CV 3/5] END xgbregressor__learning_rate=0.3, xgbregressor__max_depth=10, xgbregressor__n_estimators=100;, score=0.728 total time=   6.7s\n",
      "[CV 2/5] END xgbregressor__learning_rate=0.3, xgbregressor__max_depth=10, xgbregressor__n_estimators=100;, score=0.740 total time=   7.1s\n",
      "[CV 3/5] END xgbregressor__learning_rate=0.2, xgbregressor__max_depth=15, xgbregressor__n_estimators=200;, score=0.733 total time=  42.0s\n",
      "[CV 4/5] END xgbregressor__learning_rate=0.3, xgbregressor__max_depth=10, xgbregressor__n_estimators=100;, score=0.731 total time=   6.9s\n",
      "[CV 2/5] END xgbregressor__learning_rate=0.2, xgbregressor__max_depth=15, xgbregressor__n_estimators=200;, score=0.742 total time=  42.3s\n",
      "[CV 1/5] END xgbregressor__learning_rate=0.2, xgbregressor__max_depth=15, xgbregressor__n_estimators=200;, score=0.739 total time=  44.3s\n",
      "[CV 5/5] END xgbregressor__learning_rate=0.3, xgbregressor__max_depth=10, xgbregressor__n_estimators=100;, score=0.726 total time=   8.1s\n",
      "[CV 1/5] END xgbregressor__learning_rate=0.3, xgbregressor__max_depth=10, xgbregressor__n_estimators=200;, score=0.746 total time=  15.6s\n",
      "[CV 4/5] END xgbregressor__learning_rate=0.2, xgbregressor__max_depth=15, xgbregressor__n_estimators=200;, score=0.729 total time=  44.5s\n",
      "[CV 5/5] END xgbregressor__learning_rate=0.2, xgbregressor__max_depth=15, xgbregressor__n_estimators=200;, score=0.730 total time=  44.5s\n",
      "[CV 2/5] END xgbregressor__learning_rate=0.3, xgbregressor__max_depth=10, xgbregressor__n_estimators=200;, score=0.745 total time=  14.1s\n",
      "[CV 4/5] END xgbregressor__learning_rate=0.3, xgbregressor__max_depth=10, xgbregressor__n_estimators=200;, score=0.734 total time=  15.4s\n",
      "[CV 3/5] END xgbregressor__learning_rate=0.3, xgbregressor__max_depth=10, xgbregressor__n_estimators=200;, score=0.733 total time=  16.2s\n",
      "[CV 5/5] END xgbregressor__learning_rate=0.3, xgbregressor__max_depth=10, xgbregressor__n_estimators=200;, score=0.731 total time=  15.9s\n",
      "[CV 1/5] END xgbregressor__learning_rate=0.3, xgbregressor__max_depth=15, xgbregressor__n_estimators=100;, score=0.733 total time=  22.3s\n",
      "[CV 2/5] END xgbregressor__learning_rate=0.3, xgbregressor__max_depth=15, xgbregressor__n_estimators=100;, score=0.730 total time=  21.1s\n",
      "[CV 3/5] END xgbregressor__learning_rate=0.3, xgbregressor__max_depth=15, xgbregressor__n_estimators=100;, score=0.713 total time=  21.3s\n",
      "[CV 1/5] END xgbregressor__learning_rate=0.4, xgbregressor__max_depth=1, xgbregressor__n_estimators=100;, score=0.578 total time=   1.0s\n",
      "[CV 5/5] END xgbregressor__learning_rate=0.3, xgbregressor__max_depth=15, xgbregressor__n_estimators=100;, score=0.713 total time=  19.8s\n",
      "[CV 2/5] END xgbregressor__learning_rate=0.4, xgbregressor__max_depth=1, xgbregressor__n_estimators=100;, score=0.576 total time=   0.9s\n",
      "[CV 3/5] END xgbregressor__learning_rate=0.4, xgbregressor__max_depth=1, xgbregressor__n_estimators=100;, score=0.569 total time=   0.9s\n",
      "[CV 4/5] END xgbregressor__learning_rate=0.4, xgbregressor__max_depth=1, xgbregressor__n_estimators=100;, score=0.566 total time=   0.9s\n",
      "[CV 5/5] END xgbregressor__learning_rate=0.4, xgbregressor__max_depth=1, xgbregressor__n_estimators=100;, score=0.564 total time=   0.9s\n",
      "[CV 1/5] END xgbregressor__learning_rate=0.4, xgbregressor__max_depth=1, xgbregressor__n_estimators=200;, score=0.671 total time=   1.3s\n",
      "[CV 2/5] END xgbregressor__learning_rate=0.4, xgbregressor__max_depth=1, xgbregressor__n_estimators=200;, score=0.668 total time=   1.3s\n",
      "[CV 4/5] END xgbregressor__learning_rate=0.3, xgbregressor__max_depth=15, xgbregressor__n_estimators=100;, score=0.720 total time=  23.5s\n",
      "[CV 3/5] END xgbregressor__learning_rate=0.4, xgbregressor__max_depth=1, xgbregressor__n_estimators=200;, score=0.661 total time=   1.3s\n",
      "[CV 5/5] END xgbregressor__learning_rate=0.4, xgbregressor__max_depth=1, xgbregressor__n_estimators=200;, score=0.656 total time=   1.4s\n",
      "[CV 4/5] END xgbregressor__learning_rate=0.4, xgbregressor__max_depth=1, xgbregressor__n_estimators=200;, score=0.658 total time=   1.5s\n",
      "[CV 1/5] END xgbregressor__learning_rate=0.4, xgbregressor__max_depth=5, xgbregressor__n_estimators=100;, score=0.742 total time=   1.6s\n",
      "[CV 2/5] END xgbregressor__learning_rate=0.4, xgbregressor__max_depth=5, xgbregressor__n_estimators=100;, score=0.740 total time=   1.8s\n",
      "[CV 3/5] END xgbregressor__learning_rate=0.4, xgbregressor__max_depth=5, xgbregressor__n_estimators=100;, score=0.728 total time=   2.2s\n",
      "[CV 4/5] END xgbregressor__learning_rate=0.4, xgbregressor__max_depth=5, xgbregressor__n_estimators=100;, score=0.729 total time=   1.6s\n",
      "[CV 5/5] END xgbregressor__learning_rate=0.4, xgbregressor__max_depth=5, xgbregressor__n_estimators=100;, score=0.728 total time=   2.1s\n",
      "[CV 1/5] END xgbregressor__learning_rate=0.4, xgbregressor__max_depth=5, xgbregressor__n_estimators=200;, score=0.752 total time=   2.9s\n",
      "[CV 2/5] END xgbregressor__learning_rate=0.4, xgbregressor__max_depth=5, xgbregressor__n_estimators=200;, score=0.748 total time=   2.9s\n",
      "[CV 3/5] END xgbregressor__learning_rate=0.4, xgbregressor__max_depth=5, xgbregressor__n_estimators=200;, score=0.738 total time=   3.1s\n",
      "[CV 4/5] END xgbregressor__learning_rate=0.4, xgbregressor__max_depth=5, xgbregressor__n_estimators=200;, score=0.740 total time=   3.1s\n",
      "[CV 5/5] END xgbregressor__learning_rate=0.4, xgbregressor__max_depth=5, xgbregressor__n_estimators=200;, score=0.739 total time=   2.9s\n",
      "[CV 1/5] END xgbregressor__learning_rate=0.4, xgbregressor__max_depth=10, xgbregressor__n_estimators=100;, score=0.737 total time=   6.3s\n",
      "[CV 3/5] END xgbregressor__learning_rate=0.4, xgbregressor__max_depth=10, xgbregressor__n_estimators=100;, score=0.723 total time=   6.0s\n",
      "[CV 2/5] END xgbregressor__learning_rate=0.4, xgbregressor__max_depth=10, xgbregressor__n_estimators=100;, score=0.733 total time=   6.3s\n",
      "[CV 1/5] END xgbregressor__learning_rate=0.3, xgbregressor__max_depth=15, xgbregressor__n_estimators=200;, score=0.735 total time=  40.7s\n",
      "[CV 4/5] END xgbregressor__learning_rate=0.4, xgbregressor__max_depth=10, xgbregressor__n_estimators=100;, score=0.721 total time=   6.5s\n",
      "[CV 2/5] END xgbregressor__learning_rate=0.3, xgbregressor__max_depth=15, xgbregressor__n_estimators=200;, score=0.731 total time=  42.9s\n",
      "[CV 5/5] END xgbregressor__learning_rate=0.4, xgbregressor__max_depth=10, xgbregressor__n_estimators=100;, score=0.719 total time=   7.1s\n",
      "[CV 3/5] END xgbregressor__learning_rate=0.3, xgbregressor__max_depth=15, xgbregressor__n_estimators=200;, score=0.714 total time=  42.1s\n",
      "[CV 4/5] END xgbregressor__learning_rate=0.3, xgbregressor__max_depth=15, xgbregressor__n_estimators=200;, score=0.720 total time=  39.9s\n",
      "[CV 1/5] END xgbregressor__learning_rate=0.4, xgbregressor__max_depth=10, xgbregressor__n_estimators=200;, score=0.737 total time=  13.0s\n",
      "[CV 2/5] END xgbregressor__learning_rate=0.4, xgbregressor__max_depth=10, xgbregressor__n_estimators=200;, score=0.729 total time=  13.0s\n",
      "[CV 3/5] END xgbregressor__learning_rate=0.4, xgbregressor__max_depth=10, xgbregressor__n_estimators=200;, score=0.723 total time=  12.8s\n",
      "[CV 5/5] END xgbregressor__learning_rate=0.4, xgbregressor__max_depth=10, xgbregressor__n_estimators=200;, score=0.720 total time=  12.5s\n",
      "[CV 5/5] END xgbregressor__learning_rate=0.3, xgbregressor__max_depth=15, xgbregressor__n_estimators=200;, score=0.715 total time=  41.1s\n",
      "[CV 4/5] END xgbregressor__learning_rate=0.4, xgbregressor__max_depth=10, xgbregressor__n_estimators=200;, score=0.720 total time=  15.3s\n",
      "[CV 1/5] END xgbregressor__learning_rate=0.4, xgbregressor__max_depth=15, xgbregressor__n_estimators=100;, score=0.720 total time=  19.2s\n",
      "[CV 2/5] END xgbregressor__learning_rate=0.4, xgbregressor__max_depth=15, xgbregressor__n_estimators=100;, score=0.714 total time=  20.8s\n",
      "[CV 3/5] END xgbregressor__learning_rate=0.4, xgbregressor__max_depth=15, xgbregressor__n_estimators=100;, score=0.710 total time=  20.4s\n",
      "[CV 4/5] END xgbregressor__learning_rate=0.4, xgbregressor__max_depth=15, xgbregressor__n_estimators=100;, score=0.711 total time=  20.6s\n",
      "[CV 5/5] END xgbregressor__learning_rate=0.4, xgbregressor__max_depth=15, xgbregressor__n_estimators=100;, score=0.706 total time=  19.4s\n",
      "[CV 2/5] END xgbregressor__learning_rate=0.4, xgbregressor__max_depth=15, xgbregressor__n_estimators=200;, score=0.714 total time=  32.2s\n",
      "[CV 3/5] END xgbregressor__learning_rate=0.4, xgbregressor__max_depth=15, xgbregressor__n_estimators=200;, score=0.709 total time=  32.5s\n",
      "[CV 4/5] END xgbregressor__learning_rate=0.4, xgbregressor__max_depth=15, xgbregressor__n_estimators=200;, score=0.709 total time=  30.8s\n",
      "[CV 1/5] END xgbregressor__learning_rate=0.4, xgbregressor__max_depth=15, xgbregressor__n_estimators=200;, score=0.719 total time=  37.9s\n",
      "[CV 5/5] END xgbregressor__learning_rate=0.4, xgbregressor__max_depth=15, xgbregressor__n_estimators=200;, score=0.706 total time=  30.8s\n",
      "Best parameters:  {'xgbregressor__learning_rate': 0.4, 'xgbregressor__max_depth': 5, 'xgbregressor__n_estimators': 200}\n",
      "Best score:  0.7434567181535039\n"
     ]
    }
   ],
   "source": [
    "# Fit the grid search to the data\n",
    "grid_seargrid_search_xgboost.fit(X_train, y_train)\n",
    "# Print the best parameters and the best score\n",
    "print(\"Best parameters: \", grid_seargrid_search_xgboost.best_params_)\n",
    "print(\"Best score: \", grid_seargrid_search_xgboost.best_score_)\n",
    "best=grid_seargrid_search_xgboost.best_params_"
   ]
  },
  {
   "cell_type": "code",
   "execution_count": 36,
   "metadata": {},
   "outputs": [
    {
     "data": {
      "text/html": [
       "<style>#sk-container-id-2 {color: black;background-color: white;}#sk-container-id-2 pre{padding: 0;}#sk-container-id-2 div.sk-toggleable {background-color: white;}#sk-container-id-2 label.sk-toggleable__label {cursor: pointer;display: block;width: 100%;margin-bottom: 0;padding: 0.3em;box-sizing: border-box;text-align: center;}#sk-container-id-2 label.sk-toggleable__label-arrow:before {content: \"▸\";float: left;margin-right: 0.25em;color: #696969;}#sk-container-id-2 label.sk-toggleable__label-arrow:hover:before {color: black;}#sk-container-id-2 div.sk-estimator:hover label.sk-toggleable__label-arrow:before {color: black;}#sk-container-id-2 div.sk-toggleable__content {max-height: 0;max-width: 0;overflow: hidden;text-align: left;background-color: #f0f8ff;}#sk-container-id-2 div.sk-toggleable__content pre {margin: 0.2em;color: black;border-radius: 0.25em;background-color: #f0f8ff;}#sk-container-id-2 input.sk-toggleable__control:checked~div.sk-toggleable__content {max-height: 200px;max-width: 100%;overflow: auto;}#sk-container-id-2 input.sk-toggleable__control:checked~label.sk-toggleable__label-arrow:before {content: \"▾\";}#sk-container-id-2 div.sk-estimator input.sk-toggleable__control:checked~label.sk-toggleable__label {background-color: #d4ebff;}#sk-container-id-2 div.sk-label input.sk-toggleable__control:checked~label.sk-toggleable__label {background-color: #d4ebff;}#sk-container-id-2 input.sk-hidden--visually {border: 0;clip: rect(1px 1px 1px 1px);clip: rect(1px, 1px, 1px, 1px);height: 1px;margin: -1px;overflow: hidden;padding: 0;position: absolute;width: 1px;}#sk-container-id-2 div.sk-estimator {font-family: monospace;background-color: #f0f8ff;border: 1px dotted black;border-radius: 0.25em;box-sizing: border-box;margin-bottom: 0.5em;}#sk-container-id-2 div.sk-estimator:hover {background-color: #d4ebff;}#sk-container-id-2 div.sk-parallel-item::after {content: \"\";width: 100%;border-bottom: 1px solid gray;flex-grow: 1;}#sk-container-id-2 div.sk-label:hover label.sk-toggleable__label {background-color: #d4ebff;}#sk-container-id-2 div.sk-serial::before {content: \"\";position: absolute;border-left: 1px solid gray;box-sizing: border-box;top: 0;bottom: 0;left: 50%;z-index: 0;}#sk-container-id-2 div.sk-serial {display: flex;flex-direction: column;align-items: center;background-color: white;padding-right: 0.2em;padding-left: 0.2em;position: relative;}#sk-container-id-2 div.sk-item {position: relative;z-index: 1;}#sk-container-id-2 div.sk-parallel {display: flex;align-items: stretch;justify-content: center;background-color: white;position: relative;}#sk-container-id-2 div.sk-item::before, #sk-container-id-2 div.sk-parallel-item::before {content: \"\";position: absolute;border-left: 1px solid gray;box-sizing: border-box;top: 0;bottom: 0;left: 50%;z-index: -1;}#sk-container-id-2 div.sk-parallel-item {display: flex;flex-direction: column;z-index: 1;position: relative;background-color: white;}#sk-container-id-2 div.sk-parallel-item:first-child::after {align-self: flex-end;width: 50%;}#sk-container-id-2 div.sk-parallel-item:last-child::after {align-self: flex-start;width: 50%;}#sk-container-id-2 div.sk-parallel-item:only-child::after {width: 0;}#sk-container-id-2 div.sk-dashed-wrapped {border: 1px dashed gray;margin: 0 0.4em 0.5em 0.4em;box-sizing: border-box;padding-bottom: 0.4em;background-color: white;}#sk-container-id-2 div.sk-label label {font-family: monospace;font-weight: bold;display: inline-block;line-height: 1.2em;}#sk-container-id-2 div.sk-label-container {text-align: center;}#sk-container-id-2 div.sk-container {/* jupyter's `normalize.less` sets `[hidden] { display: none; }` but bootstrap.min.css set `[hidden] { display: none !important; }` so we also need the `!important` here to be able to override the default hidden behavior on the sphinx rendered scikit-learn.org. See: https://github.com/scikit-learn/scikit-learn/issues/21755 */display: inline-block !important;position: relative;}#sk-container-id-2 div.sk-text-repr-fallback {display: none;}</style><div id=\"sk-container-id-2\" class=\"sk-top-container\"><div class=\"sk-text-repr-fallback\"><pre>Pipeline(steps=[(&#x27;columntransformer&#x27;,\n",
       "                 ColumnTransformer(transformers=[(&#x27;pipeline-1&#x27;,\n",
       "                                                  Pipeline(steps=[(&#x27;standardscaler&#x27;,\n",
       "                                                                   StandardScaler(with_mean=False))]),\n",
       "                                                  &lt;sklearn.compose._column_transformer.make_column_selector object at 0x7f95af86f2e0&gt;),\n",
       "                                                 (&#x27;pipeline-2&#x27;,\n",
       "                                                  Pipeline(steps=[(&#x27;onehotencoder&#x27;,\n",
       "                                                                   OneHotEncoder(handle_unknown=&#x27;ignore&#x27;))]),\n",
       "                                                  &lt;sklearn.compose._column_tr...\n",
       "                              feature_types=None, gamma=None, gpu_id=None,\n",
       "                              grow_policy=None, importance_type=None,\n",
       "                              interaction_constraints=None, learning_rate=0.4,\n",
       "                              max_bin=None, max_cat_threshold=None,\n",
       "                              max_cat_to_onehot=None, max_delta_step=None,\n",
       "                              max_depth=5, max_leaves=None,\n",
       "                              min_child_weight=None, missing=nan,\n",
       "                              monotone_constraints=None, n_estimators=200,\n",
       "                              n_jobs=None, num_parallel_tree=None,\n",
       "                              predictor=None, random_state=42, ...))])</pre><b>In a Jupyter environment, please rerun this cell to show the HTML representation or trust the notebook. <br />On GitHub, the HTML representation is unable to render, please try loading this page with nbviewer.org.</b></div><div class=\"sk-container\" hidden><div class=\"sk-item sk-dashed-wrapped\"><div class=\"sk-label-container\"><div class=\"sk-label sk-toggleable\"><input class=\"sk-toggleable__control sk-hidden--visually\" id=\"sk-estimator-id-8\" type=\"checkbox\" ><label for=\"sk-estimator-id-8\" class=\"sk-toggleable__label sk-toggleable__label-arrow\">Pipeline</label><div class=\"sk-toggleable__content\"><pre>Pipeline(steps=[(&#x27;columntransformer&#x27;,\n",
       "                 ColumnTransformer(transformers=[(&#x27;pipeline-1&#x27;,\n",
       "                                                  Pipeline(steps=[(&#x27;standardscaler&#x27;,\n",
       "                                                                   StandardScaler(with_mean=False))]),\n",
       "                                                  &lt;sklearn.compose._column_transformer.make_column_selector object at 0x7f95af86f2e0&gt;),\n",
       "                                                 (&#x27;pipeline-2&#x27;,\n",
       "                                                  Pipeline(steps=[(&#x27;onehotencoder&#x27;,\n",
       "                                                                   OneHotEncoder(handle_unknown=&#x27;ignore&#x27;))]),\n",
       "                                                  &lt;sklearn.compose._column_tr...\n",
       "                              feature_types=None, gamma=None, gpu_id=None,\n",
       "                              grow_policy=None, importance_type=None,\n",
       "                              interaction_constraints=None, learning_rate=0.4,\n",
       "                              max_bin=None, max_cat_threshold=None,\n",
       "                              max_cat_to_onehot=None, max_delta_step=None,\n",
       "                              max_depth=5, max_leaves=None,\n",
       "                              min_child_weight=None, missing=nan,\n",
       "                              monotone_constraints=None, n_estimators=200,\n",
       "                              n_jobs=None, num_parallel_tree=None,\n",
       "                              predictor=None, random_state=42, ...))])</pre></div></div></div><div class=\"sk-serial\"><div class=\"sk-item sk-dashed-wrapped\"><div class=\"sk-label-container\"><div class=\"sk-label sk-toggleable\"><input class=\"sk-toggleable__control sk-hidden--visually\" id=\"sk-estimator-id-9\" type=\"checkbox\" ><label for=\"sk-estimator-id-9\" class=\"sk-toggleable__label sk-toggleable__label-arrow\">columntransformer: ColumnTransformer</label><div class=\"sk-toggleable__content\"><pre>ColumnTransformer(transformers=[(&#x27;pipeline-1&#x27;,\n",
       "                                 Pipeline(steps=[(&#x27;standardscaler&#x27;,\n",
       "                                                  StandardScaler(with_mean=False))]),\n",
       "                                 &lt;sklearn.compose._column_transformer.make_column_selector object at 0x7f95af86f2e0&gt;),\n",
       "                                (&#x27;pipeline-2&#x27;,\n",
       "                                 Pipeline(steps=[(&#x27;onehotencoder&#x27;,\n",
       "                                                  OneHotEncoder(handle_unknown=&#x27;ignore&#x27;))]),\n",
       "                                 &lt;sklearn.compose._column_transformer.make_column_selector object at 0x7f954b6ddcf0&gt;)])</pre></div></div></div><div class=\"sk-parallel\"><div class=\"sk-parallel-item\"><div class=\"sk-item\"><div class=\"sk-label-container\"><div class=\"sk-label sk-toggleable\"><input class=\"sk-toggleable__control sk-hidden--visually\" id=\"sk-estimator-id-10\" type=\"checkbox\" ><label for=\"sk-estimator-id-10\" class=\"sk-toggleable__label sk-toggleable__label-arrow\">pipeline-1</label><div class=\"sk-toggleable__content\"><pre>&lt;sklearn.compose._column_transformer.make_column_selector object at 0x7f95af86f2e0&gt;</pre></div></div></div><div class=\"sk-serial\"><div class=\"sk-item\"><div class=\"sk-serial\"><div class=\"sk-item\"><div class=\"sk-estimator sk-toggleable\"><input class=\"sk-toggleable__control sk-hidden--visually\" id=\"sk-estimator-id-11\" type=\"checkbox\" ><label for=\"sk-estimator-id-11\" class=\"sk-toggleable__label sk-toggleable__label-arrow\">StandardScaler</label><div class=\"sk-toggleable__content\"><pre>StandardScaler(with_mean=False)</pre></div></div></div></div></div></div></div></div><div class=\"sk-parallel-item\"><div class=\"sk-item\"><div class=\"sk-label-container\"><div class=\"sk-label sk-toggleable\"><input class=\"sk-toggleable__control sk-hidden--visually\" id=\"sk-estimator-id-12\" type=\"checkbox\" ><label for=\"sk-estimator-id-12\" class=\"sk-toggleable__label sk-toggleable__label-arrow\">pipeline-2</label><div class=\"sk-toggleable__content\"><pre>&lt;sklearn.compose._column_transformer.make_column_selector object at 0x7f954b6ddcf0&gt;</pre></div></div></div><div class=\"sk-serial\"><div class=\"sk-item\"><div class=\"sk-serial\"><div class=\"sk-item\"><div class=\"sk-estimator sk-toggleable\"><input class=\"sk-toggleable__control sk-hidden--visually\" id=\"sk-estimator-id-13\" type=\"checkbox\" ><label for=\"sk-estimator-id-13\" class=\"sk-toggleable__label sk-toggleable__label-arrow\">OneHotEncoder</label><div class=\"sk-toggleable__content\"><pre>OneHotEncoder(handle_unknown=&#x27;ignore&#x27;)</pre></div></div></div></div></div></div></div></div></div></div><div class=\"sk-item\"><div class=\"sk-estimator sk-toggleable\"><input class=\"sk-toggleable__control sk-hidden--visually\" id=\"sk-estimator-id-14\" type=\"checkbox\" ><label for=\"sk-estimator-id-14\" class=\"sk-toggleable__label sk-toggleable__label-arrow\">XGBRegressor</label><div class=\"sk-toggleable__content\"><pre>XGBRegressor(base_score=None, booster=None, callbacks=None,\n",
       "             colsample_bylevel=None, colsample_bynode=None,\n",
       "             colsample_bytree=None, early_stopping_rounds=None,\n",
       "             enable_categorical=False, eval_metric=None, feature_types=None,\n",
       "             gamma=None, gpu_id=None, grow_policy=None, importance_type=None,\n",
       "             interaction_constraints=None, learning_rate=0.4, max_bin=None,\n",
       "             max_cat_threshold=None, max_cat_to_onehot=None,\n",
       "             max_delta_step=None, max_depth=5, max_leaves=None,\n",
       "             min_child_weight=None, missing=nan, monotone_constraints=None,\n",
       "             n_estimators=200, n_jobs=None, num_parallel_tree=None,\n",
       "             predictor=None, random_state=42, ...)</pre></div></div></div></div></div></div></div>"
      ],
      "text/plain": [
       "Pipeline(steps=[('columntransformer',\n",
       "                 ColumnTransformer(transformers=[('pipeline-1',\n",
       "                                                  Pipeline(steps=[('standardscaler',\n",
       "                                                                   StandardScaler(with_mean=False))]),\n",
       "                                                  <sklearn.compose._column_transformer.make_column_selector object at 0x7f95af86f2e0>),\n",
       "                                                 ('pipeline-2',\n",
       "                                                  Pipeline(steps=[('onehotencoder',\n",
       "                                                                   OneHotEncoder(handle_unknown='ignore'))]),\n",
       "                                                  <sklearn.compose._column_tr...\n",
       "                              feature_types=None, gamma=None, gpu_id=None,\n",
       "                              grow_policy=None, importance_type=None,\n",
       "                              interaction_constraints=None, learning_rate=0.4,\n",
       "                              max_bin=None, max_cat_threshold=None,\n",
       "                              max_cat_to_onehot=None, max_delta_step=None,\n",
       "                              max_depth=5, max_leaves=None,\n",
       "                              min_child_weight=None, missing=nan,\n",
       "                              monotone_constraints=None, n_estimators=200,\n",
       "                              n_jobs=None, num_parallel_tree=None,\n",
       "                              predictor=None, random_state=42, ...))])"
      ]
     },
     "execution_count": 36,
     "metadata": {},
     "output_type": "execute_result"
    }
   ],
   "source": [
    "xgb_model.set_params(**best)"
   ]
  },
  {
   "cell_type": "code",
   "execution_count": 37,
   "metadata": {},
   "outputs": [
    {
     "data": {
      "text/plain": [
       "0.7466215687509393"
      ]
     },
     "execution_count": 37,
     "metadata": {},
     "output_type": "execute_result"
    }
   ],
   "source": [
    "xgb_model.fit(X_train,y_train)\n",
    "xgb_model.score(X_test,y_test)"
   ]
  },
  {
   "cell_type": "code",
   "execution_count": 38,
   "metadata": {},
   "outputs": [
    {
     "name": "stderr",
     "output_type": "stream",
     "text": [
      "2023/02/22 16:58:17 INFO mlflow.models.evaluation.base: Evaluating the model with the default evaluator.\n",
      "2023/02/22 16:58:18 WARNING mlflow.models.evaluation.default_evaluator: Skip logging model explainability insights because the shap explainer None requires all feature values to be numeric, and each feature column must only contain scalar values.\n"
     ]
    }
   ],
   "source": [
    "import mlflow\n",
    "experiment_name = \"Modelisation\"\n",
    "try:\n",
    "    experiment_id = mlflow.get_experiment_by_name(experiment_name).experiment_id\n",
    "except AttributeError:\n",
    "    experiment_id = mlflow.create_experiment(experiment_name)\n",
    "\n",
    "\n",
    "eval_data = X_test\n",
    "eval_data[\"label\"] = y_test\n",
    "\n",
    "with mlflow.start_run(experiment_id=experiment_id, nested=True, run_name=xgb_model[-1].__class__.__name__):\n",
    "    mlflow.log_params(xgb_model[-1].get_params())\n",
    "    mlflow.sklearn.log_model(xgb_model, experiment_name)\n",
    "    model_uri = mlflow.get_artifact_uri(experiment_name)\n",
    "\n",
    "    result = mlflow.evaluate(\n",
    "            model_uri,\n",
    "            eval_data,\n",
    "            targets=\"label\",\n",
    "            model_type=\"regressor\",\n",
    "            evaluators=[\"default\"],\n",
    "    )"
   ]
  }
 ],
 "metadata": {
  "kernelspec": {
   "display_name": "spotify",
   "language": "python",
   "name": "python3"
  },
  "language_info": {
   "codemirror_mode": {
    "name": "ipython",
    "version": 3
   },
   "file_extension": ".py",
   "mimetype": "text/x-python",
   "name": "python",
   "nbconvert_exporter": "python",
   "pygments_lexer": "ipython3",
   "version": "3.10.9"
  },
  "orig_nbformat": 4,
  "vscode": {
   "interpreter": {
    "hash": "d423c74a8d2859e822730bb221dd7d4008a4598d4534aeb5f1033518584b360a"
   }
  }
 },
 "nbformat": 4,
 "nbformat_minor": 2
}
