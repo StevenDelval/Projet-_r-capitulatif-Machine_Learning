{
 "cells": [
  {
   "cell_type": "code",
   "execution_count": 4,
   "metadata": {},
   "outputs": [
    {
     "ename": "ModuleNotFoundError",
     "evalue": "No module named 'spotipy'",
     "output_type": "error",
     "traceback": [
      "\u001b[1;31m---------------------------------------------------------------------------\u001b[0m",
      "\u001b[1;31mModuleNotFoundError\u001b[0m                       Traceback (most recent call last)",
      "\u001b[1;32m<ipython-input-4-a15dd876e1b1>\u001b[0m in \u001b[0;36m<module>\u001b[1;34m\u001b[0m\n\u001b[1;32m----> 1\u001b[1;33m \u001b[1;32mimport\u001b[0m \u001b[0mspotipy\u001b[0m\u001b[1;33m\u001b[0m\u001b[1;33m\u001b[0m\u001b[0m\n\u001b[0m\u001b[0;32m      2\u001b[0m \u001b[1;32mfrom\u001b[0m \u001b[0mspotipy\u001b[0m\u001b[1;33m.\u001b[0m\u001b[0moauth2\u001b[0m \u001b[1;32mimport\u001b[0m \u001b[0mSpotifyClientCredentials\u001b[0m\u001b[1;33m\u001b[0m\u001b[1;33m\u001b[0m\u001b[0m\n\u001b[0;32m      3\u001b[0m \u001b[0mcid\u001b[0m \u001b[1;33m=\u001b[0m \u001b[1;34m'78e434819ce74de2a9da9bd344483f65'\u001b[0m\u001b[1;33m\u001b[0m\u001b[1;33m\u001b[0m\u001b[0m\n\u001b[0;32m      4\u001b[0m \u001b[0msecret\u001b[0m \u001b[1;33m=\u001b[0m \u001b[1;34m'4bc5580d98ae45f087b511650c3e9d0b'\u001b[0m\u001b[1;33m\u001b[0m\u001b[1;33m\u001b[0m\u001b[0m\n\u001b[0;32m      5\u001b[0m \u001b[0mclient_credentials_manager\u001b[0m \u001b[1;33m=\u001b[0m \u001b[0mSpotifyClientCredentials\u001b[0m\u001b[1;33m(\u001b[0m\u001b[0mclient_id\u001b[0m\u001b[1;33m=\u001b[0m\u001b[0mcid\u001b[0m\u001b[1;33m,\u001b[0m \u001b[0mclient_secret\u001b[0m\u001b[1;33m=\u001b[0m\u001b[0msecret\u001b[0m\u001b[1;33m)\u001b[0m\u001b[1;33m\u001b[0m\u001b[1;33m\u001b[0m\u001b[0m\n",
      "\u001b[1;31mModuleNotFoundError\u001b[0m: No module named 'spotipy'"
     ]
    }
   ],
   "source": [
    "import spotipy\n",
    "from spotipy.oauth2 import SpotifyClientCredentials\n",
    "cid = '78e434819ce74de2a9da9bd344483f65'\n",
    "secret = '4bc5580d98ae45f087b511650c3e9d0b'\n",
    "client_credentials_manager = SpotifyClientCredentials(client_id=cid, client_secret=secret)\n",
    "sp = spotipy.Spotify(client_credentials_manager = client_credentials_manager)"
   ]
  },
  {
   "cell_type": "code",
   "execution_count": 22,
   "metadata": {},
   "outputs": [
    {
     "name": "stdout",
     "output_type": "stream",
     "text": [
      "{'sentiment positif': 0.9591, 'sentiment neutre': 0.0026, 'sentiment negatif': 0.0379}\n"
     ]
    }
   ],
   "source": [
    "\n",
    "artist_name = []\n",
    "album_name = []\n",
    "album_id = []\n",
    "track_name = []\n",
    "track_id = []\n",
    "popularity = []\n",
    "release_date = []\n",
    "duration_ms = []\n",
    "explicit = []\n",
    "external_urls = []\n",
    "is_local = []\n",
    "preview_url = []\n",
    "track_number = []\n",
    "audio_features = []\n",
    "genre = []\n",
    "\n",
    "Track_Name = {'When I met you'}\n",
    "Artiste_Name = {\" \"}\n",
    "\n",
    "try:\n",
    "    for k,i in enumerate(range(0,1000,50)):\n",
    "           \n",
    "                track_results = sp.search(q=f'track: {Track_Name} artist:{Artiste_Name}', type='track', limit=5)\n",
    "                for j, t in enumerate(track_results['tracks']['items']):\n",
    "                    # Get artist data\n",
    "                    artist_name.append(t['artists'][0]['name'])\n",
    "                    \n",
    "                    # Get album data\n",
    "                    album_name.append(t['album']['name'])\n",
    "                    album_id.append(t['album']['id'])\n",
    "                    release_date.append(t['album']['release_date'])\n",
    "                    \n",
    "                    # Get track data\n",
    "                    track_name.append(t['name'])\n",
    "                    track_id.append(t['id'])\n",
    "                    popularity.append(t['popularity'])\n",
    "                    duration_ms.append(t['duration_ms'])\n",
    "                    explicit.append(t['explicit'])\n",
    "                    external_urls.append(t['external_urls']['spotify'])\n",
    "                    is_local.append(t['is_local'])\n",
    "                    preview_url.append(t['preview_url'])\n",
    "                    track_number.append(t['track_number'])\n",
    "\n",
    "                    # Get audio features\n",
    "                    af = sp.audio_features(t['id'])[0]\n",
    "                    audio_features.append(af)\n",
    "\n",
    "except:\n",
    "    print(len(artist_name))"
   ]
  }
 ],
 "metadata": {
  "kernelspec": {
   "display_name": "base",
   "language": "python",
   "name": "python3"
  },
  "language_info": {
   "codemirror_mode": {
    "name": "ipython",
    "version": 3
   },
   "file_extension": ".py",
   "mimetype": "text/x-python",
   "name": "python",
   "nbconvert_exporter": "python",
   "pygments_lexer": "ipython3",
   "version": "3.8.5"
  },
  "orig_nbformat": 4,
  "vscode": {
   "interpreter": {
    "hash": "728166df596dc6b9d95aa00a68d9d66253e0ab53dc6b17d60ab3234c59362003"
   }
  }
 },
 "nbformat": 4,
 "nbformat_minor": 2
}
