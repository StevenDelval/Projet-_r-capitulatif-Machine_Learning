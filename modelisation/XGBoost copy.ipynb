{
 "cells": [
  {
   "attachments": {},
   "cell_type": "markdown",
   "metadata": {},
   "source": [
    "# import packages"
   ]
  },
  {
   "cell_type": "code",
   "execution_count": 1,
   "metadata": {},
   "outputs": [],
   "source": [
    "import pandas as pd\n",
    "\n",
    "from sklearn.compose import make_column_selector, ColumnTransformer, make_column_transformer\n",
    "# sklearn.compose: The sklearn.compose module is a submodule of the sklearn library for machine learning in Python. It provides functions for creating complex preprocessing and modeling pipelines.\n",
    "from sklearn.preprocessing import OneHotEncoder,StandardScaler,PolynomialFeatures,RobustScaler\n",
    "#sklearn.preprocessing: The sklearn.preprocessing module is a submodule of the sklearn library that provides functions for preprocessing data, such as scaling and normalizing features, imputing missing values, and encoding categorical variables.\n",
    "from sklearn.linear_model import Ridge,LinearRegression,Lasso, ElasticNet\n",
    "# sklearn.linear_model: The sklearn.linear_model module is a submodule of the sklearn library that provides functions for fitting linear models for regression and classification.\n",
    "from sklearn.pipeline import make_pipeline\n",
    "# sklearn.pipeline: The sklearn.pipeline module is a submodule of the sklearn library that provides functions for creating and working with pipelines of transformers and models.\n",
    "from sklearn.model_selection import train_test_split,GridSearchCV,learning_curve, RandomizedSearchCV, cross_val_score, KFold\n",
    "# sklearn.model_selection: The sklearn.model_selection module is a submodule of the sklearn library that provides functions for splitting data into training and test sets, evaluating models using cross-validation, and hyperparameter tuning.\n",
    "from sklearn.dummy import DummyRegressor\n",
    "# sklearn.dummy: The sklearn.dummy module is a submodule of the sklearn library that provides simple dummy models for regression and classification.\n",
    "\n",
    "\n",
    "from sklearn.impute import SimpleImputer\n",
    "import numpy as np\n",
    "\n",
    "from sklearn.ensemble import RandomForestClassifier\n",
    "import functions as fun"
   ]
  },
  {
   "attachments": {},
   "cell_type": "markdown",
   "metadata": {},
   "source": [
    "# Read data"
   ]
  },
  {
   "cell_type": "code",
   "execution_count": 2,
   "metadata": {},
   "outputs": [],
   "source": [
    "try:\n",
    "    df = pd.read_csv('data/data_110k_lignes.csv')\n",
    "except:\n",
    "    print(\"Error: no such file csv\")\n"
   ]
  },
  {
   "cell_type": "code",
   "execution_count": 3,
   "metadata": {},
   "outputs": [
    {
     "name": "stderr",
     "output_type": "stream",
     "text": [
      "/home/apprenant/Bureau/briefs/Projet-_r-capitulatif-Machine_Learning/functions.py:10: SettingWithCopyWarning: \n",
      "A value is trying to be set on a copy of a slice from a DataFrame.\n",
      "Try using .loc[row_indexer,col_indexer] = value instead\n",
      "\n",
      "See the caveats in the documentation: https://pandas.pydata.org/pandas-docs/stable/user_guide/indexing.html#returning-a-view-versus-a-copy\n",
      "  df['explicit'] = df['explicit'].apply(lambda x : 0 if x == False else 1)\n",
      "/home/apprenant/Bureau/briefs/Projet-_r-capitulatif-Machine_Learning/functions.py:17: SettingWithCopyWarning: \n",
      "A value is trying to be set on a copy of a slice from a DataFrame\n",
      "\n",
      "See the caveats in the documentation: https://pandas.pydata.org/pandas-docs/stable/user_guide/indexing.html#returning-a-view-versus-a-copy\n",
      "  df.drop(df[df['track_number'] > 100].index, axis=0, inplace=True)\n"
     ]
    }
   ],
   "source": [
    "df = fun.clean_data(df)\n",
    "df = fun.groupby_track_id(df)"
   ]
  },
  {
   "attachments": {},
   "cell_type": "markdown",
   "metadata": {},
   "source": [
    "# Préparation à la modélisation"
   ]
  },
  {
   "cell_type": "code",
   "execution_count": 4,
   "metadata": {},
   "outputs": [],
   "source": [
    "X = df.drop('popularity', axis=1)\n",
    "y = df['popularity']"
   ]
  },
  {
   "cell_type": "code",
   "execution_count": 5,
   "metadata": {},
   "outputs": [],
   "source": [
    "X = X[[col for col in X.columns if X[col].dtype != 'object' or col == 'genre']]"
   ]
  },
  {
   "cell_type": "code",
   "execution_count": 6,
   "metadata": {},
   "outputs": [],
   "source": [
    "def make_pipeline_to_ML(X,y):\n",
    "    X_train, X_test, y_train, y_test = train_test_split(X, y, shuffle=True, train_size=0.8, random_state=42)\n",
    "    numerical_features = make_column_selector(dtype_include=np.number)\n",
    "    categorical_features = make_column_selector(dtype_exclude= np.number)\n",
    "    numerical_pipeline = make_pipeline(StandardScaler(with_mean=False))\n",
    "    categorical_pipeline = make_pipeline(OneHotEncoder(handle_unknown='ignore'))\n",
    "    preprocessor = make_column_transformer((numerical_pipeline, numerical_features),\n",
    "                                    (categorical_pipeline, categorical_features)\n",
    "                                    )\n",
    "    return preprocessor, X_train, X_test, y_train, y_test\n",
    "\n",
    "\n",
    "# Create the pipeline\n",
    "preprocessor, X_train, X_test, y_train, y_test = make_pipeline_to_ML(X,y)"
   ]
  },
  {
   "cell_type": "code",
   "execution_count": 7,
   "metadata": {},
   "outputs": [],
   "source": [
    "from xgboost import XGBRegressor\n",
    "xgb_model = make_pipeline(preprocessor, XGBRegressor(random_state=42, tree_method = 'hist'))\n",
    "params = {\n",
    "        'xgbregressor__max_depth':[1,5,10,15], \n",
    "        'xgbregressor__n_estimators' : [100,200],\n",
    "        'xgbregressor__learning_rate' : [0.1,0.2, 0.3,0.4],\n",
    "        }\n",
    " # Create the grid search object\n",
    "grid_seargrid_search_xgboost = GridSearchCV(xgb_model, params, cv=5, n_jobs = -1, verbose=4)"
   ]
  },
  {
   "cell_type": "code",
   "execution_count": 8,
   "metadata": {},
   "outputs": [
    {
     "name": "stdout",
     "output_type": "stream",
     "text": [
      "Fitting 5 folds for each of 32 candidates, totalling 160 fits\n",
      "[CV 2/5] END xgbregressor__learning_rate=0.1, xgbregressor__max_depth=1, xgbregressor__n_estimators=100;, score=0.342 total time=   2.3s\n",
      "[CV 1/5] END xgbregressor__learning_rate=0.1, xgbregressor__max_depth=1, xgbregressor__n_estimators=100;, score=0.342 total time=   2.3s\n",
      "[CV 3/5] END xgbregressor__learning_rate=0.1, xgbregressor__max_depth=1, xgbregressor__n_estimators=100;, score=0.340 total time=   2.4s\n",
      "[CV 5/5] END xgbregressor__learning_rate=0.1, xgbregressor__max_depth=1, xgbregressor__n_estimators=100;, score=0.337 total time=   2.8s\n",
      "[CV 4/5] END xgbregressor__learning_rate=0.1, xgbregressor__max_depth=1, xgbregressor__n_estimators=100;, score=0.343 total time=   2.7s\n",
      "[CV 1/5] END xgbregressor__learning_rate=0.1, xgbregressor__max_depth=1, xgbregressor__n_estimators=200;, score=0.461 total time=   3.7s\n",
      "[CV 2/5] END xgbregressor__learning_rate=0.1, xgbregressor__max_depth=1, xgbregressor__n_estimators=200;, score=0.462 total time=   3.6s\n",
      "[CV 3/5] END xgbregressor__learning_rate=0.1, xgbregressor__max_depth=1, xgbregressor__n_estimators=200;, score=0.459 total time=   3.4s\n",
      "[CV 4/5] END xgbregressor__learning_rate=0.1, xgbregressor__max_depth=1, xgbregressor__n_estimators=200;, score=0.463 total time=   3.1s\n",
      "[CV 3/5] END xgbregressor__learning_rate=0.1, xgbregressor__max_depth=5, xgbregressor__n_estimators=100;, score=0.656 total time=   2.6s\n",
      "[CV 1/5] END xgbregressor__learning_rate=0.1, xgbregressor__max_depth=5, xgbregressor__n_estimators=100;, score=0.653 total time=   3.2s\n",
      "[CV 2/5] END xgbregressor__learning_rate=0.1, xgbregressor__max_depth=5, xgbregressor__n_estimators=100;, score=0.658 total time=   3.0s\n",
      "[CV 5/5] END xgbregressor__learning_rate=0.1, xgbregressor__max_depth=1, xgbregressor__n_estimators=200;, score=0.457 total time=   3.9s\n",
      "[CV 4/5] END xgbregressor__learning_rate=0.1, xgbregressor__max_depth=5, xgbregressor__n_estimators=100;, score=0.660 total time=   2.9s\n",
      "[CV 5/5] END xgbregressor__learning_rate=0.1, xgbregressor__max_depth=5, xgbregressor__n_estimators=100;, score=0.655 total time=   2.8s\n",
      "[CV 1/5] END xgbregressor__learning_rate=0.1, xgbregressor__max_depth=5, xgbregressor__n_estimators=200;, score=0.731 total time=   5.0s\n",
      "[CV 2/5] END xgbregressor__learning_rate=0.1, xgbregressor__max_depth=5, xgbregressor__n_estimators=200;, score=0.732 total time=   4.4s\n",
      "[CV 3/5] END xgbregressor__learning_rate=0.1, xgbregressor__max_depth=5, xgbregressor__n_estimators=200;, score=0.734 total time=   4.7s\n",
      "[CV 4/5] END xgbregressor__learning_rate=0.1, xgbregressor__max_depth=5, xgbregressor__n_estimators=200;, score=0.736 total time=   4.8s\n",
      "[CV 5/5] END xgbregressor__learning_rate=0.1, xgbregressor__max_depth=5, xgbregressor__n_estimators=200;, score=0.733 total time=   4.7s\n",
      "[CV 1/5] END xgbregressor__learning_rate=0.1, xgbregressor__max_depth=10, xgbregressor__n_estimators=100;, score=0.747 total time=   5.9s\n",
      "[CV 2/5] END xgbregressor__learning_rate=0.1, xgbregressor__max_depth=10, xgbregressor__n_estimators=100;, score=0.747 total time=   5.9s\n",
      "[CV 3/5] END xgbregressor__learning_rate=0.1, xgbregressor__max_depth=10, xgbregressor__n_estimators=100;, score=0.749 total time=   5.8s\n",
      "[CV 5/5] END xgbregressor__learning_rate=0.1, xgbregressor__max_depth=10, xgbregressor__n_estimators=100;, score=0.747 total time=   5.6s\n",
      "[CV 4/5] END xgbregressor__learning_rate=0.1, xgbregressor__max_depth=10, xgbregressor__n_estimators=100;, score=0.752 total time=   6.7s\n",
      "[CV 1/5] END xgbregressor__learning_rate=0.1, xgbregressor__max_depth=10, xgbregressor__n_estimators=200;, score=0.777 total time=  11.3s\n",
      "[CV 2/5] END xgbregressor__learning_rate=0.1, xgbregressor__max_depth=10, xgbregressor__n_estimators=200;, score=0.776 total time=  11.9s\n",
      "[CV 3/5] END xgbregressor__learning_rate=0.1, xgbregressor__max_depth=10, xgbregressor__n_estimators=200;, score=0.781 total time=  12.9s\n",
      "[CV 5/5] END xgbregressor__learning_rate=0.1, xgbregressor__max_depth=10, xgbregressor__n_estimators=200;, score=0.779 total time=  11.8s\n",
      "[CV 4/5] END xgbregressor__learning_rate=0.1, xgbregressor__max_depth=10, xgbregressor__n_estimators=200;, score=0.782 total time=  12.3s\n",
      "[CV 1/5] END xgbregressor__learning_rate=0.1, xgbregressor__max_depth=15, xgbregressor__n_estimators=100;, score=0.767 total time=  15.3s\n",
      "[CV 2/5] END xgbregressor__learning_rate=0.1, xgbregressor__max_depth=15, xgbregressor__n_estimators=100;, score=0.767 total time=  15.0s\n",
      "[CV 3/5] END xgbregressor__learning_rate=0.1, xgbregressor__max_depth=15, xgbregressor__n_estimators=100;, score=0.774 total time=  15.5s\n",
      "[CV 1/5] END xgbregressor__learning_rate=0.2, xgbregressor__max_depth=1, xgbregressor__n_estimators=100;, score=0.469 total time=   2.7s\n",
      "[CV 2/5] END xgbregressor__learning_rate=0.2, xgbregressor__max_depth=1, xgbregressor__n_estimators=100;, score=0.470 total time=   2.8s\n",
      "[CV 4/5] END xgbregressor__learning_rate=0.1, xgbregressor__max_depth=15, xgbregressor__n_estimators=100;, score=0.776 total time=  15.7s\n",
      "[CV 5/5] END xgbregressor__learning_rate=0.1, xgbregressor__max_depth=15, xgbregressor__n_estimators=100;, score=0.772 total time=  14.9s\n",
      "[CV 3/5] END xgbregressor__learning_rate=0.2, xgbregressor__max_depth=1, xgbregressor__n_estimators=100;, score=0.468 total time=   2.3s\n",
      "[CV 5/5] END xgbregressor__learning_rate=0.2, xgbregressor__max_depth=1, xgbregressor__n_estimators=100;, score=0.466 total time=   2.9s\n",
      "[CV 4/5] END xgbregressor__learning_rate=0.2, xgbregressor__max_depth=1, xgbregressor__n_estimators=100;, score=0.473 total time=   3.0s\n",
      "[CV 1/5] END xgbregressor__learning_rate=0.2, xgbregressor__max_depth=1, xgbregressor__n_estimators=200;, score=0.586 total time=   3.5s\n",
      "[CV 2/5] END xgbregressor__learning_rate=0.2, xgbregressor__max_depth=1, xgbregressor__n_estimators=200;, score=0.586 total time=   3.5s\n",
      "[CV 3/5] END xgbregressor__learning_rate=0.2, xgbregressor__max_depth=1, xgbregressor__n_estimators=200;, score=0.584 total time=   4.1s\n",
      "[CV 4/5] END xgbregressor__learning_rate=0.2, xgbregressor__max_depth=1, xgbregressor__n_estimators=200;, score=0.588 total time=   3.6s\n",
      "[CV 5/5] END xgbregressor__learning_rate=0.2, xgbregressor__max_depth=1, xgbregressor__n_estimators=200;, score=0.584 total time=   3.5s\n",
      "[CV 1/5] END xgbregressor__learning_rate=0.2, xgbregressor__max_depth=5, xgbregressor__n_estimators=100;, score=0.731 total time=   3.2s\n",
      "[CV 2/5] END xgbregressor__learning_rate=0.2, xgbregressor__max_depth=5, xgbregressor__n_estimators=100;, score=0.734 total time=   3.2s\n",
      "[CV 3/5] END xgbregressor__learning_rate=0.2, xgbregressor__max_depth=5, xgbregressor__n_estimators=100;, score=0.737 total time=   2.9s\n",
      "[CV 4/5] END xgbregressor__learning_rate=0.2, xgbregressor__max_depth=5, xgbregressor__n_estimators=100;, score=0.739 total time=   3.1s\n",
      "[CV 5/5] END xgbregressor__learning_rate=0.2, xgbregressor__max_depth=5, xgbregressor__n_estimators=100;, score=0.734 total time=   3.2s\n",
      "[CV 2/5] END xgbregressor__learning_rate=0.1, xgbregressor__max_depth=15, xgbregressor__n_estimators=200;, score=0.775 total time=  30.4s\n",
      "[CV 3/5] END xgbregressor__learning_rate=0.1, xgbregressor__max_depth=15, xgbregressor__n_estimators=200;, score=0.782 total time=  30.4s\n",
      "[CV 1/5] END xgbregressor__learning_rate=0.1, xgbregressor__max_depth=15, xgbregressor__n_estimators=200;, score=0.775 total time=  31.5s\n",
      "[CV 2/5] END xgbregressor__learning_rate=0.2, xgbregressor__max_depth=5, xgbregressor__n_estimators=200;, score=0.768 total time=   4.9s\n",
      "[CV 1/5] END xgbregressor__learning_rate=0.2, xgbregressor__max_depth=5, xgbregressor__n_estimators=200;, score=0.766 total time=   5.5s\n",
      "[CV 4/5] END xgbregressor__learning_rate=0.1, xgbregressor__max_depth=15, xgbregressor__n_estimators=200;, score=0.784 total time=  29.3s\n",
      "[CV 3/5] END xgbregressor__learning_rate=0.2, xgbregressor__max_depth=5, xgbregressor__n_estimators=200;, score=0.774 total time=   4.8s\n",
      "[CV 5/5] END xgbregressor__learning_rate=0.2, xgbregressor__max_depth=5, xgbregressor__n_estimators=200;, score=0.771 total time=   4.3s\n",
      "[CV 4/5] END xgbregressor__learning_rate=0.2, xgbregressor__max_depth=5, xgbregressor__n_estimators=200;, score=0.772 total time=   4.5s\n",
      "[CV 5/5] END xgbregressor__learning_rate=0.1, xgbregressor__max_depth=15, xgbregressor__n_estimators=200;, score=0.781 total time=  29.3s\n",
      "[CV 1/5] END xgbregressor__learning_rate=0.2, xgbregressor__max_depth=10, xgbregressor__n_estimators=100;, score=0.770 total time=   6.0s\n",
      "[CV 2/5] END xgbregressor__learning_rate=0.2, xgbregressor__max_depth=10, xgbregressor__n_estimators=100;, score=0.773 total time=   5.9s\n",
      "[CV 3/5] END xgbregressor__learning_rate=0.2, xgbregressor__max_depth=10, xgbregressor__n_estimators=100;, score=0.779 total time=   6.3s\n",
      "[CV 4/5] END xgbregressor__learning_rate=0.2, xgbregressor__max_depth=10, xgbregressor__n_estimators=100;, score=0.779 total time=   5.7s\n",
      "[CV 5/5] END xgbregressor__learning_rate=0.2, xgbregressor__max_depth=10, xgbregressor__n_estimators=100;, score=0.777 total time=   6.6s\n",
      "[CV 1/5] END xgbregressor__learning_rate=0.2, xgbregressor__max_depth=10, xgbregressor__n_estimators=200;, score=0.772 total time=  11.7s\n",
      "[CV 2/5] END xgbregressor__learning_rate=0.2, xgbregressor__max_depth=10, xgbregressor__n_estimators=200;, score=0.776 total time=  12.0s\n",
      "[CV 3/5] END xgbregressor__learning_rate=0.2, xgbregressor__max_depth=10, xgbregressor__n_estimators=200;, score=0.784 total time=  11.7s\n",
      "[CV 4/5] END xgbregressor__learning_rate=0.2, xgbregressor__max_depth=10, xgbregressor__n_estimators=200;, score=0.783 total time=  11.3s\n",
      "[CV 5/5] END xgbregressor__learning_rate=0.2, xgbregressor__max_depth=10, xgbregressor__n_estimators=200;, score=0.782 total time=  11.4s\n",
      "[CV 2/5] END xgbregressor__learning_rate=0.2, xgbregressor__max_depth=15, xgbregressor__n_estimators=100;, score=0.768 total time=  15.6s\n",
      "[CV 1/5] END xgbregressor__learning_rate=0.2, xgbregressor__max_depth=15, xgbregressor__n_estimators=100;, score=0.771 total time=  17.2s\n",
      "[CV 3/5] END xgbregressor__learning_rate=0.2, xgbregressor__max_depth=15, xgbregressor__n_estimators=100;, score=0.776 total time=  18.2s\n",
      "[CV 1/5] END xgbregressor__learning_rate=0.3, xgbregressor__max_depth=1, xgbregressor__n_estimators=100;, score=0.547 total time=   2.7s\n",
      "[CV 4/5] END xgbregressor__learning_rate=0.2, xgbregressor__max_depth=15, xgbregressor__n_estimators=100;, score=0.776 total time=  16.4s\n",
      "[CV 2/5] END xgbregressor__learning_rate=0.3, xgbregressor__max_depth=1, xgbregressor__n_estimators=100;, score=0.547 total time=   2.9s\n",
      "[CV 5/5] END xgbregressor__learning_rate=0.2, xgbregressor__max_depth=15, xgbregressor__n_estimators=100;, score=0.774 total time=  16.8s\n",
      "[CV 3/5] END xgbregressor__learning_rate=0.3, xgbregressor__max_depth=1, xgbregressor__n_estimators=100;, score=0.545 total time=   2.5s\n",
      "[CV 4/5] END xgbregressor__learning_rate=0.3, xgbregressor__max_depth=1, xgbregressor__n_estimators=100;, score=0.549 total time=   2.8s\n",
      "[CV 5/5] END xgbregressor__learning_rate=0.3, xgbregressor__max_depth=1, xgbregressor__n_estimators=100;, score=0.544 total time=   2.7s\n",
      "[CV 1/5] END xgbregressor__learning_rate=0.3, xgbregressor__max_depth=1, xgbregressor__n_estimators=200;, score=0.646 total time=   3.5s\n",
      "[CV 2/5] END xgbregressor__learning_rate=0.3, xgbregressor__max_depth=1, xgbregressor__n_estimators=200;, score=0.643 total time=   3.7s\n",
      "[CV 3/5] END xgbregressor__learning_rate=0.3, xgbregressor__max_depth=1, xgbregressor__n_estimators=200;, score=0.645 total time=   4.1s\n",
      "[CV 4/5] END xgbregressor__learning_rate=0.3, xgbregressor__max_depth=1, xgbregressor__n_estimators=200;, score=0.649 total time=   3.4s\n",
      "[CV 5/5] END xgbregressor__learning_rate=0.3, xgbregressor__max_depth=1, xgbregressor__n_estimators=200;, score=0.644 total time=   3.5s\n",
      "[CV 1/5] END xgbregressor__learning_rate=0.3, xgbregressor__max_depth=5, xgbregressor__n_estimators=100;, score=0.759 total time=   3.7s\n",
      "[CV 2/5] END xgbregressor__learning_rate=0.3, xgbregressor__max_depth=5, xgbregressor__n_estimators=100;, score=0.756 total time=   2.9s\n",
      "[CV 3/5] END xgbregressor__learning_rate=0.3, xgbregressor__max_depth=5, xgbregressor__n_estimators=100;, score=0.760 total time=   3.0s\n",
      "[CV 4/5] END xgbregressor__learning_rate=0.3, xgbregressor__max_depth=5, xgbregressor__n_estimators=100;, score=0.760 total time=   3.5s\n",
      "[CV 5/5] END xgbregressor__learning_rate=0.3, xgbregressor__max_depth=5, xgbregressor__n_estimators=100;, score=0.758 total time=   3.0s\n",
      "[CV 3/5] END xgbregressor__learning_rate=0.2, xgbregressor__max_depth=15, xgbregressor__n_estimators=200;, score=0.773 total time=  32.8s\n",
      "[CV 1/5] END xgbregressor__learning_rate=0.3, xgbregressor__max_depth=5, xgbregressor__n_estimators=200;, score=0.775 total time=   4.9s\n",
      "[CV 1/5] END xgbregressor__learning_rate=0.2, xgbregressor__max_depth=15, xgbregressor__n_estimators=200;, score=0.768 total time=  34.4s\n",
      "[CV 2/5] END xgbregressor__learning_rate=0.2, xgbregressor__max_depth=15, xgbregressor__n_estimators=200;, score=0.765 total time=  34.0s\n",
      "[CV 2/5] END xgbregressor__learning_rate=0.3, xgbregressor__max_depth=5, xgbregressor__n_estimators=200;, score=0.774 total time=   5.1s\n",
      "[CV 3/5] END xgbregressor__learning_rate=0.3, xgbregressor__max_depth=5, xgbregressor__n_estimators=200;, score=0.780 total time=   4.8s\n",
      "[CV 4/5] END xgbregressor__learning_rate=0.2, xgbregressor__max_depth=15, xgbregressor__n_estimators=200;, score=0.773 total time=  31.7s\n",
      "[CV 5/5] END xgbregressor__learning_rate=0.3, xgbregressor__max_depth=5, xgbregressor__n_estimators=200;, score=0.776 total time=   4.7s\n",
      "[CV 4/5] END xgbregressor__learning_rate=0.3, xgbregressor__max_depth=5, xgbregressor__n_estimators=200;, score=0.779 total time=   5.1s\n",
      "[CV 1/5] END xgbregressor__learning_rate=0.3, xgbregressor__max_depth=10, xgbregressor__n_estimators=100;, score=0.768 total time=   6.2s\n",
      "[CV 5/5] END xgbregressor__learning_rate=0.2, xgbregressor__max_depth=15, xgbregressor__n_estimators=200;, score=0.773 total time=  33.5s\n",
      "[CV 2/5] END xgbregressor__learning_rate=0.3, xgbregressor__max_depth=10, xgbregressor__n_estimators=100;, score=0.768 total time=   6.5s\n",
      "[CV 3/5] END xgbregressor__learning_rate=0.3, xgbregressor__max_depth=10, xgbregressor__n_estimators=100;, score=0.773 total time=   6.7s\n",
      "[CV 4/5] END xgbregressor__learning_rate=0.3, xgbregressor__max_depth=10, xgbregressor__n_estimators=100;, score=0.774 total time=   6.5s\n",
      "[CV 5/5] END xgbregressor__learning_rate=0.3, xgbregressor__max_depth=10, xgbregressor__n_estimators=100;, score=0.774 total time=   6.1s\n",
      "[CV 1/5] END xgbregressor__learning_rate=0.3, xgbregressor__max_depth=10, xgbregressor__n_estimators=200;, score=0.763 total time=  12.2s\n",
      "[CV 2/5] END xgbregressor__learning_rate=0.3, xgbregressor__max_depth=10, xgbregressor__n_estimators=200;, score=0.763 total time=  12.5s\n",
      "[CV 3/5] END xgbregressor__learning_rate=0.3, xgbregressor__max_depth=10, xgbregressor__n_estimators=200;, score=0.769 total time=  13.4s\n",
      "[CV 4/5] END xgbregressor__learning_rate=0.3, xgbregressor__max_depth=10, xgbregressor__n_estimators=200;, score=0.769 total time=  13.1s\n",
      "[CV 5/5] END xgbregressor__learning_rate=0.3, xgbregressor__max_depth=10, xgbregressor__n_estimators=200;, score=0.770 total time=  14.3s\n",
      "[CV 1/5] END xgbregressor__learning_rate=0.3, xgbregressor__max_depth=15, xgbregressor__n_estimators=100;, score=0.757 total time=  17.9s\n",
      "[CV 2/5] END xgbregressor__learning_rate=0.3, xgbregressor__max_depth=15, xgbregressor__n_estimators=100;, score=0.756 total time=  17.9s\n",
      "[CV 3/5] END xgbregressor__learning_rate=0.3, xgbregressor__max_depth=15, xgbregressor__n_estimators=100;, score=0.761 total time=  17.2s\n",
      "[CV 1/5] END xgbregressor__learning_rate=0.4, xgbregressor__max_depth=1, xgbregressor__n_estimators=100;, score=0.599 total time=   2.4s\n",
      "[CV 2/5] END xgbregressor__learning_rate=0.4, xgbregressor__max_depth=1, xgbregressor__n_estimators=100;, score=0.599 total time=   2.5s\n",
      "[CV 4/5] END xgbregressor__learning_rate=0.3, xgbregressor__max_depth=15, xgbregressor__n_estimators=100;, score=0.764 total time=  16.8s\n",
      "[CV 3/5] END xgbregressor__learning_rate=0.4, xgbregressor__max_depth=1, xgbregressor__n_estimators=100;, score=0.598 total time=   2.4s\n",
      "[CV 5/5] END xgbregressor__learning_rate=0.3, xgbregressor__max_depth=15, xgbregressor__n_estimators=100;, score=0.762 total time=  18.2s\n",
      "[CV 4/5] END xgbregressor__learning_rate=0.4, xgbregressor__max_depth=1, xgbregressor__n_estimators=100;, score=0.604 total time=   2.5s\n",
      "[CV 5/5] END xgbregressor__learning_rate=0.4, xgbregressor__max_depth=1, xgbregressor__n_estimators=100;, score=0.598 total time=   2.6s\n",
      "[CV 1/5] END xgbregressor__learning_rate=0.4, xgbregressor__max_depth=1, xgbregressor__n_estimators=200;, score=0.674 total time=   3.5s\n",
      "[CV 2/5] END xgbregressor__learning_rate=0.4, xgbregressor__max_depth=1, xgbregressor__n_estimators=200;, score=0.672 total time=   3.5s\n",
      "[CV 3/5] END xgbregressor__learning_rate=0.4, xgbregressor__max_depth=1, xgbregressor__n_estimators=200;, score=0.673 total time=   3.5s\n",
      "[CV 4/5] END xgbregressor__learning_rate=0.4, xgbregressor__max_depth=1, xgbregressor__n_estimators=200;, score=0.677 total time=   3.9s\n",
      "[CV 5/5] END xgbregressor__learning_rate=0.4, xgbregressor__max_depth=1, xgbregressor__n_estimators=200;, score=0.673 total time=   4.1s\n",
      "[CV 1/5] END xgbregressor__learning_rate=0.4, xgbregressor__max_depth=5, xgbregressor__n_estimators=100;, score=0.764 total time=   3.2s\n",
      "[CV 2/5] END xgbregressor__learning_rate=0.4, xgbregressor__max_depth=5, xgbregressor__n_estimators=100;, score=0.764 total time=   3.3s\n",
      "[CV 3/5] END xgbregressor__learning_rate=0.4, xgbregressor__max_depth=5, xgbregressor__n_estimators=100;, score=0.769 total time=   3.4s\n",
      "[CV 4/5] END xgbregressor__learning_rate=0.4, xgbregressor__max_depth=5, xgbregressor__n_estimators=100;, score=0.770 total time=   3.0s\n",
      "[CV 5/5] END xgbregressor__learning_rate=0.4, xgbregressor__max_depth=5, xgbregressor__n_estimators=100;, score=0.769 total time=   3.1s\n",
      "[CV 2/5] END xgbregressor__learning_rate=0.4, xgbregressor__max_depth=5, xgbregressor__n_estimators=200;, score=0.775 total time=   4.6s\n",
      "[CV 1/5] END xgbregressor__learning_rate=0.4, xgbregressor__max_depth=5, xgbregressor__n_estimators=200;, score=0.773 total time=   5.7s\n",
      "[CV 3/5] END xgbregressor__learning_rate=0.4, xgbregressor__max_depth=5, xgbregressor__n_estimators=200;, score=0.781 total time=   5.0s\n",
      "[CV 2/5] END xgbregressor__learning_rate=0.3, xgbregressor__max_depth=15, xgbregressor__n_estimators=200;, score=0.752 total time=  36.8s\n",
      "[CV 4/5] END xgbregressor__learning_rate=0.4, xgbregressor__max_depth=5, xgbregressor__n_estimators=200;, score=0.780 total time=   5.0s\n",
      "[CV 1/5] END xgbregressor__learning_rate=0.3, xgbregressor__max_depth=15, xgbregressor__n_estimators=200;, score=0.753 total time=  37.9s\n",
      "[CV 5/5] END xgbregressor__learning_rate=0.4, xgbregressor__max_depth=5, xgbregressor__n_estimators=200;, score=0.778 total time=   5.4s\n",
      "[CV 3/5] END xgbregressor__learning_rate=0.3, xgbregressor__max_depth=15, xgbregressor__n_estimators=200;, score=0.757 total time=  37.9s\n",
      "[CV 1/5] END xgbregressor__learning_rate=0.4, xgbregressor__max_depth=10, xgbregressor__n_estimators=100;, score=0.758 total time=   7.0s\n",
      "[CV 5/5] END xgbregressor__learning_rate=0.3, xgbregressor__max_depth=15, xgbregressor__n_estimators=200;, score=0.760 total time=  35.6s\n",
      "[CV 4/5] END xgbregressor__learning_rate=0.3, xgbregressor__max_depth=15, xgbregressor__n_estimators=200;, score=0.760 total time=  36.4s\n",
      "[CV 2/5] END xgbregressor__learning_rate=0.4, xgbregressor__max_depth=10, xgbregressor__n_estimators=100;, score=0.757 total time=   6.3s\n",
      "[CV 3/5] END xgbregressor__learning_rate=0.4, xgbregressor__max_depth=10, xgbregressor__n_estimators=100;, score=0.763 total time=   6.3s\n",
      "[CV 4/5] END xgbregressor__learning_rate=0.4, xgbregressor__max_depth=10, xgbregressor__n_estimators=100;, score=0.767 total time=   7.2s\n",
      "[CV 5/5] END xgbregressor__learning_rate=0.4, xgbregressor__max_depth=10, xgbregressor__n_estimators=100;, score=0.760 total time=   6.5s\n",
      "[CV 1/5] END xgbregressor__learning_rate=0.4, xgbregressor__max_depth=10, xgbregressor__n_estimators=200;, score=0.749 total time=  13.4s\n",
      "[CV 3/5] END xgbregressor__learning_rate=0.4, xgbregressor__max_depth=10, xgbregressor__n_estimators=200;, score=0.755 total time=  12.7s\n",
      "[CV 2/5] END xgbregressor__learning_rate=0.4, xgbregressor__max_depth=10, xgbregressor__n_estimators=200;, score=0.747 total time=  13.2s\n",
      "[CV 4/5] END xgbregressor__learning_rate=0.4, xgbregressor__max_depth=10, xgbregressor__n_estimators=200;, score=0.758 total time=  12.9s\n",
      "[CV 5/5] END xgbregressor__learning_rate=0.4, xgbregressor__max_depth=10, xgbregressor__n_estimators=200;, score=0.753 total time=  14.7s\n",
      "[CV 1/5] END xgbregressor__learning_rate=0.4, xgbregressor__max_depth=15, xgbregressor__n_estimators=100;, score=0.746 total time=  18.9s\n",
      "[CV 2/5] END xgbregressor__learning_rate=0.4, xgbregressor__max_depth=15, xgbregressor__n_estimators=100;, score=0.744 total time=  18.3s\n",
      "[CV 3/5] END xgbregressor__learning_rate=0.4, xgbregressor__max_depth=15, xgbregressor__n_estimators=100;, score=0.749 total time=  19.4s\n",
      "[CV 4/5] END xgbregressor__learning_rate=0.4, xgbregressor__max_depth=15, xgbregressor__n_estimators=100;, score=0.749 total time=  16.7s\n",
      "[CV 5/5] END xgbregressor__learning_rate=0.4, xgbregressor__max_depth=15, xgbregressor__n_estimators=100;, score=0.751 total time=  17.8s\n",
      "[CV 2/5] END xgbregressor__learning_rate=0.4, xgbregressor__max_depth=15, xgbregressor__n_estimators=200;, score=0.742 total time=  30.4s\n",
      "[CV 4/5] END xgbregressor__learning_rate=0.4, xgbregressor__max_depth=15, xgbregressor__n_estimators=200;, score=0.747 total time=  27.1s\n",
      "[CV 5/5] END xgbregressor__learning_rate=0.4, xgbregressor__max_depth=15, xgbregressor__n_estimators=200;, score=0.749 total time=  27.1s\n",
      "[CV 1/5] END xgbregressor__learning_rate=0.4, xgbregressor__max_depth=15, xgbregressor__n_estimators=200;, score=0.744 total time=  35.8s\n",
      "[CV 3/5] END xgbregressor__learning_rate=0.4, xgbregressor__max_depth=15, xgbregressor__n_estimators=200;, score=0.747 total time=  33.7s\n",
      "Best parameters:  {'xgbregressor__learning_rate': 0.1, 'xgbregressor__max_depth': 15, 'xgbregressor__n_estimators': 200}\n",
      "Best score:  0.779469515939432\n"
     ]
    }
   ],
   "source": [
    "# Fit the grid search to the data\n",
    "grid_seargrid_search_xgboost.fit(X_train, y_train)\n",
    "# Print the best parameters and the best score\n",
    "print(\"Best parameters: \", grid_seargrid_search_xgboost.best_params_)\n",
    "print(\"Best score: \", grid_seargrid_search_xgboost.best_score_)\n",
    "best=grid_seargrid_search_xgboost.best_params_"
   ]
  },
  {
   "cell_type": "code",
   "execution_count": 9,
   "metadata": {},
   "outputs": [],
   "source": [
    "# best =  {'xgbregressor__learning_rate': 0.3, 'xgbregressor__max_depth': 10, 'xgbregressor__n_estimators': 200}\n",
    "# # Best score:  0.7434567181535039"
   ]
  },
  {
   "cell_type": "code",
   "execution_count": 10,
   "metadata": {},
   "outputs": [
    {
     "data": {
      "text/html": [
       "<style>#sk-container-id-1 {color: black;background-color: white;}#sk-container-id-1 pre{padding: 0;}#sk-container-id-1 div.sk-toggleable {background-color: white;}#sk-container-id-1 label.sk-toggleable__label {cursor: pointer;display: block;width: 100%;margin-bottom: 0;padding: 0.3em;box-sizing: border-box;text-align: center;}#sk-container-id-1 label.sk-toggleable__label-arrow:before {content: \"▸\";float: left;margin-right: 0.25em;color: #696969;}#sk-container-id-1 label.sk-toggleable__label-arrow:hover:before {color: black;}#sk-container-id-1 div.sk-estimator:hover label.sk-toggleable__label-arrow:before {color: black;}#sk-container-id-1 div.sk-toggleable__content {max-height: 0;max-width: 0;overflow: hidden;text-align: left;background-color: #f0f8ff;}#sk-container-id-1 div.sk-toggleable__content pre {margin: 0.2em;color: black;border-radius: 0.25em;background-color: #f0f8ff;}#sk-container-id-1 input.sk-toggleable__control:checked~div.sk-toggleable__content {max-height: 200px;max-width: 100%;overflow: auto;}#sk-container-id-1 input.sk-toggleable__control:checked~label.sk-toggleable__label-arrow:before {content: \"▾\";}#sk-container-id-1 div.sk-estimator input.sk-toggleable__control:checked~label.sk-toggleable__label {background-color: #d4ebff;}#sk-container-id-1 div.sk-label input.sk-toggleable__control:checked~label.sk-toggleable__label {background-color: #d4ebff;}#sk-container-id-1 input.sk-hidden--visually {border: 0;clip: rect(1px 1px 1px 1px);clip: rect(1px, 1px, 1px, 1px);height: 1px;margin: -1px;overflow: hidden;padding: 0;position: absolute;width: 1px;}#sk-container-id-1 div.sk-estimator {font-family: monospace;background-color: #f0f8ff;border: 1px dotted black;border-radius: 0.25em;box-sizing: border-box;margin-bottom: 0.5em;}#sk-container-id-1 div.sk-estimator:hover {background-color: #d4ebff;}#sk-container-id-1 div.sk-parallel-item::after {content: \"\";width: 100%;border-bottom: 1px solid gray;flex-grow: 1;}#sk-container-id-1 div.sk-label:hover label.sk-toggleable__label {background-color: #d4ebff;}#sk-container-id-1 div.sk-serial::before {content: \"\";position: absolute;border-left: 1px solid gray;box-sizing: border-box;top: 0;bottom: 0;left: 50%;z-index: 0;}#sk-container-id-1 div.sk-serial {display: flex;flex-direction: column;align-items: center;background-color: white;padding-right: 0.2em;padding-left: 0.2em;position: relative;}#sk-container-id-1 div.sk-item {position: relative;z-index: 1;}#sk-container-id-1 div.sk-parallel {display: flex;align-items: stretch;justify-content: center;background-color: white;position: relative;}#sk-container-id-1 div.sk-item::before, #sk-container-id-1 div.sk-parallel-item::before {content: \"\";position: absolute;border-left: 1px solid gray;box-sizing: border-box;top: 0;bottom: 0;left: 50%;z-index: -1;}#sk-container-id-1 div.sk-parallel-item {display: flex;flex-direction: column;z-index: 1;position: relative;background-color: white;}#sk-container-id-1 div.sk-parallel-item:first-child::after {align-self: flex-end;width: 50%;}#sk-container-id-1 div.sk-parallel-item:last-child::after {align-self: flex-start;width: 50%;}#sk-container-id-1 div.sk-parallel-item:only-child::after {width: 0;}#sk-container-id-1 div.sk-dashed-wrapped {border: 1px dashed gray;margin: 0 0.4em 0.5em 0.4em;box-sizing: border-box;padding-bottom: 0.4em;background-color: white;}#sk-container-id-1 div.sk-label label {font-family: monospace;font-weight: bold;display: inline-block;line-height: 1.2em;}#sk-container-id-1 div.sk-label-container {text-align: center;}#sk-container-id-1 div.sk-container {/* jupyter's `normalize.less` sets `[hidden] { display: none; }` but bootstrap.min.css set `[hidden] { display: none !important; }` so we also need the `!important` here to be able to override the default hidden behavior on the sphinx rendered scikit-learn.org. See: https://github.com/scikit-learn/scikit-learn/issues/21755 */display: inline-block !important;position: relative;}#sk-container-id-1 div.sk-text-repr-fallback {display: none;}</style><div id=\"sk-container-id-1\" class=\"sk-top-container\"><div class=\"sk-text-repr-fallback\"><pre>Pipeline(steps=[(&#x27;columntransformer&#x27;,\n",
       "                 ColumnTransformer(transformers=[(&#x27;pipeline-1&#x27;,\n",
       "                                                  Pipeline(steps=[(&#x27;standardscaler&#x27;,\n",
       "                                                                   StandardScaler(with_mean=False))]),\n",
       "                                                  &lt;sklearn.compose._column_transformer.make_column_selector object at 0x7f0712114cd0&gt;),\n",
       "                                                 (&#x27;pipeline-2&#x27;,\n",
       "                                                  Pipeline(steps=[(&#x27;onehotencoder&#x27;,\n",
       "                                                                   OneHotEncoder(handle_unknown=&#x27;ignore&#x27;))]),\n",
       "                                                  &lt;sklearn.compose._column_tr...\n",
       "                              feature_types=None, gamma=None, gpu_id=None,\n",
       "                              grow_policy=None, importance_type=None,\n",
       "                              interaction_constraints=None, learning_rate=0.1,\n",
       "                              max_bin=None, max_cat_threshold=None,\n",
       "                              max_cat_to_onehot=None, max_delta_step=None,\n",
       "                              max_depth=15, max_leaves=None,\n",
       "                              min_child_weight=None, missing=nan,\n",
       "                              monotone_constraints=None, n_estimators=200,\n",
       "                              n_jobs=None, num_parallel_tree=None,\n",
       "                              predictor=None, random_state=42, ...))])</pre><b>In a Jupyter environment, please rerun this cell to show the HTML representation or trust the notebook. <br />On GitHub, the HTML representation is unable to render, please try loading this page with nbviewer.org.</b></div><div class=\"sk-container\" hidden><div class=\"sk-item sk-dashed-wrapped\"><div class=\"sk-label-container\"><div class=\"sk-label sk-toggleable\"><input class=\"sk-toggleable__control sk-hidden--visually\" id=\"sk-estimator-id-1\" type=\"checkbox\" ><label for=\"sk-estimator-id-1\" class=\"sk-toggleable__label sk-toggleable__label-arrow\">Pipeline</label><div class=\"sk-toggleable__content\"><pre>Pipeline(steps=[(&#x27;columntransformer&#x27;,\n",
       "                 ColumnTransformer(transformers=[(&#x27;pipeline-1&#x27;,\n",
       "                                                  Pipeline(steps=[(&#x27;standardscaler&#x27;,\n",
       "                                                                   StandardScaler(with_mean=False))]),\n",
       "                                                  &lt;sklearn.compose._column_transformer.make_column_selector object at 0x7f0712114cd0&gt;),\n",
       "                                                 (&#x27;pipeline-2&#x27;,\n",
       "                                                  Pipeline(steps=[(&#x27;onehotencoder&#x27;,\n",
       "                                                                   OneHotEncoder(handle_unknown=&#x27;ignore&#x27;))]),\n",
       "                                                  &lt;sklearn.compose._column_tr...\n",
       "                              feature_types=None, gamma=None, gpu_id=None,\n",
       "                              grow_policy=None, importance_type=None,\n",
       "                              interaction_constraints=None, learning_rate=0.1,\n",
       "                              max_bin=None, max_cat_threshold=None,\n",
       "                              max_cat_to_onehot=None, max_delta_step=None,\n",
       "                              max_depth=15, max_leaves=None,\n",
       "                              min_child_weight=None, missing=nan,\n",
       "                              monotone_constraints=None, n_estimators=200,\n",
       "                              n_jobs=None, num_parallel_tree=None,\n",
       "                              predictor=None, random_state=42, ...))])</pre></div></div></div><div class=\"sk-serial\"><div class=\"sk-item sk-dashed-wrapped\"><div class=\"sk-label-container\"><div class=\"sk-label sk-toggleable\"><input class=\"sk-toggleable__control sk-hidden--visually\" id=\"sk-estimator-id-2\" type=\"checkbox\" ><label for=\"sk-estimator-id-2\" class=\"sk-toggleable__label sk-toggleable__label-arrow\">columntransformer: ColumnTransformer</label><div class=\"sk-toggleable__content\"><pre>ColumnTransformer(transformers=[(&#x27;pipeline-1&#x27;,\n",
       "                                 Pipeline(steps=[(&#x27;standardscaler&#x27;,\n",
       "                                                  StandardScaler(with_mean=False))]),\n",
       "                                 &lt;sklearn.compose._column_transformer.make_column_selector object at 0x7f0712114cd0&gt;),\n",
       "                                (&#x27;pipeline-2&#x27;,\n",
       "                                 Pipeline(steps=[(&#x27;onehotencoder&#x27;,\n",
       "                                                  OneHotEncoder(handle_unknown=&#x27;ignore&#x27;))]),\n",
       "                                 &lt;sklearn.compose._column_transformer.make_column_selector object at 0x7f0712116260&gt;)])</pre></div></div></div><div class=\"sk-parallel\"><div class=\"sk-parallel-item\"><div class=\"sk-item\"><div class=\"sk-label-container\"><div class=\"sk-label sk-toggleable\"><input class=\"sk-toggleable__control sk-hidden--visually\" id=\"sk-estimator-id-3\" type=\"checkbox\" ><label for=\"sk-estimator-id-3\" class=\"sk-toggleable__label sk-toggleable__label-arrow\">pipeline-1</label><div class=\"sk-toggleable__content\"><pre>&lt;sklearn.compose._column_transformer.make_column_selector object at 0x7f0712114cd0&gt;</pre></div></div></div><div class=\"sk-serial\"><div class=\"sk-item\"><div class=\"sk-serial\"><div class=\"sk-item\"><div class=\"sk-estimator sk-toggleable\"><input class=\"sk-toggleable__control sk-hidden--visually\" id=\"sk-estimator-id-4\" type=\"checkbox\" ><label for=\"sk-estimator-id-4\" class=\"sk-toggleable__label sk-toggleable__label-arrow\">StandardScaler</label><div class=\"sk-toggleable__content\"><pre>StandardScaler(with_mean=False)</pre></div></div></div></div></div></div></div></div><div class=\"sk-parallel-item\"><div class=\"sk-item\"><div class=\"sk-label-container\"><div class=\"sk-label sk-toggleable\"><input class=\"sk-toggleable__control sk-hidden--visually\" id=\"sk-estimator-id-5\" type=\"checkbox\" ><label for=\"sk-estimator-id-5\" class=\"sk-toggleable__label sk-toggleable__label-arrow\">pipeline-2</label><div class=\"sk-toggleable__content\"><pre>&lt;sklearn.compose._column_transformer.make_column_selector object at 0x7f0712116260&gt;</pre></div></div></div><div class=\"sk-serial\"><div class=\"sk-item\"><div class=\"sk-serial\"><div class=\"sk-item\"><div class=\"sk-estimator sk-toggleable\"><input class=\"sk-toggleable__control sk-hidden--visually\" id=\"sk-estimator-id-6\" type=\"checkbox\" ><label for=\"sk-estimator-id-6\" class=\"sk-toggleable__label sk-toggleable__label-arrow\">OneHotEncoder</label><div class=\"sk-toggleable__content\"><pre>OneHotEncoder(handle_unknown=&#x27;ignore&#x27;)</pre></div></div></div></div></div></div></div></div></div></div><div class=\"sk-item\"><div class=\"sk-estimator sk-toggleable\"><input class=\"sk-toggleable__control sk-hidden--visually\" id=\"sk-estimator-id-7\" type=\"checkbox\" ><label for=\"sk-estimator-id-7\" class=\"sk-toggleable__label sk-toggleable__label-arrow\">XGBRegressor</label><div class=\"sk-toggleable__content\"><pre>XGBRegressor(base_score=None, booster=None, callbacks=None,\n",
       "             colsample_bylevel=None, colsample_bynode=None,\n",
       "             colsample_bytree=None, early_stopping_rounds=None,\n",
       "             enable_categorical=False, eval_metric=None, feature_types=None,\n",
       "             gamma=None, gpu_id=None, grow_policy=None, importance_type=None,\n",
       "             interaction_constraints=None, learning_rate=0.1, max_bin=None,\n",
       "             max_cat_threshold=None, max_cat_to_onehot=None,\n",
       "             max_delta_step=None, max_depth=15, max_leaves=None,\n",
       "             min_child_weight=None, missing=nan, monotone_constraints=None,\n",
       "             n_estimators=200, n_jobs=None, num_parallel_tree=None,\n",
       "             predictor=None, random_state=42, ...)</pre></div></div></div></div></div></div></div>"
      ],
      "text/plain": [
       "Pipeline(steps=[('columntransformer',\n",
       "                 ColumnTransformer(transformers=[('pipeline-1',\n",
       "                                                  Pipeline(steps=[('standardscaler',\n",
       "                                                                   StandardScaler(with_mean=False))]),\n",
       "                                                  <sklearn.compose._column_transformer.make_column_selector object at 0x7f0712114cd0>),\n",
       "                                                 ('pipeline-2',\n",
       "                                                  Pipeline(steps=[('onehotencoder',\n",
       "                                                                   OneHotEncoder(handle_unknown='ignore'))]),\n",
       "                                                  <sklearn.compose._column_tr...\n",
       "                              feature_types=None, gamma=None, gpu_id=None,\n",
       "                              grow_policy=None, importance_type=None,\n",
       "                              interaction_constraints=None, learning_rate=0.1,\n",
       "                              max_bin=None, max_cat_threshold=None,\n",
       "                              max_cat_to_onehot=None, max_delta_step=None,\n",
       "                              max_depth=15, max_leaves=None,\n",
       "                              min_child_weight=None, missing=nan,\n",
       "                              monotone_constraints=None, n_estimators=200,\n",
       "                              n_jobs=None, num_parallel_tree=None,\n",
       "                              predictor=None, random_state=42, ...))])"
      ]
     },
     "execution_count": 10,
     "metadata": {},
     "output_type": "execute_result"
    }
   ],
   "source": [
    "xgb_model.set_params(**best)"
   ]
  },
  {
   "cell_type": "code",
   "execution_count": 11,
   "metadata": {},
   "outputs": [
    {
     "data": {
      "text/plain": [
       "0.7849207385384697"
      ]
     },
     "execution_count": 11,
     "metadata": {},
     "output_type": "execute_result"
    }
   ],
   "source": [
    "xgb_model.fit(X_train,y_train)\n",
    "xgb_model.score(X_test,y_test)"
   ]
  },
  {
   "cell_type": "code",
   "execution_count": 12,
   "metadata": {},
   "outputs": [
    {
     "name": "stderr",
     "output_type": "stream",
     "text": [
      "/home/apprenant/miniconda3/envs/spotify/lib/python3.10/site-packages/_distutils_hack/__init__.py:33: UserWarning: Setuptools is replacing distutils.\n",
      "  warnings.warn(\"Setuptools is replacing distutils.\")\n",
      "2023/02/23 15:55:23 INFO mlflow.models.evaluation.base: Evaluating the model with the default evaluator.\n",
      "/home/apprenant/miniconda3/envs/spotify/lib/python3.10/site-packages/tqdm/auto.py:22: TqdmWarning: IProgress not found. Please update jupyter and ipywidgets. See https://ipywidgets.readthedocs.io/en/stable/user_install.html\n",
      "  from .autonotebook import tqdm as notebook_tqdm\n",
      "2023/02/23 15:55:24 INFO mlflow.models.evaluation.default_evaluator: Shap explainer Permutation is used.\n",
      "Permutation explainer: 2001it [02:40, 11.83it/s]                          \n",
      "Unable to serialize underlying model using MLflow, will use SHAP serialization\n",
      "No data for colormapping provided via 'c'. Parameters 'vmin', 'vmax' will be ignored\n",
      "No data for colormapping provided via 'c'. Parameters 'vmin', 'vmax' will be ignored\n"
     ]
    }
   ],
   "source": [
    "import mlflow\n",
    "experiment_name = \"Modelisation\"\n",
    "try:\n",
    "    experiment_id = mlflow.get_experiment_by_name(experiment_name).experiment_id\n",
    "except AttributeError:\n",
    "    experiment_id = mlflow.create_experiment(experiment_name)\n",
    "\n",
    "\n",
    "eval_data = X_test\n",
    "eval_data[\"label\"] = y_test\n",
    "\n",
    "with mlflow.start_run(experiment_id=experiment_id, nested=True, run_name=xgb_model[-1].__class__.__name__):\n",
    "    mlflow.log_params(xgb_model[-1].get_params())\n",
    "    mlflow.sklearn.log_model(xgb_model, experiment_name)\n",
    "    model_uri = mlflow.get_artifact_uri(experiment_name)\n",
    "\n",
    "    result = mlflow.evaluate(\n",
    "            model_uri,\n",
    "            eval_data,\n",
    "            targets=\"label\",\n",
    "            model_type=\"regressor\",\n",
    "            evaluators=[\"default\"],\n",
    "    )"
   ]
  }
 ],
 "metadata": {
  "kernelspec": {
   "display_name": "spotify",
   "language": "python",
   "name": "python3"
  },
  "language_info": {
   "codemirror_mode": {
    "name": "ipython",
    "version": 3
   },
   "file_extension": ".py",
   "mimetype": "text/x-python",
   "name": "python",
   "nbconvert_exporter": "python",
   "pygments_lexer": "ipython3",
   "version": "3.10.9"
  },
  "orig_nbformat": 4,
  "vscode": {
   "interpreter": {
    "hash": "d423c74a8d2859e822730bb221dd7d4008a4598d4534aeb5f1033518584b360a"
   }
  }
 },
 "nbformat": 4,
 "nbformat_minor": 2
}
