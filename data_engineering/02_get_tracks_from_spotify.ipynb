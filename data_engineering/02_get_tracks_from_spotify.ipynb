{
 "cells": [
  {
   "cell_type": "code",
   "execution_count": null,
   "metadata": {},
   "outputs": [],
   "source": [
    "####################################################################################\n",
    "# Spotify Account: ZoLTaR                                                          #\n",
    "####################################################################################\n",
    "# User ID: 125165874                                                               #\n",
    "# OAuth token: BQAdyJl8AI8njMGX0aJmqdFd3YDUTUNtw                                   #\n",
    "#              _KFHAUOcO8LdVFojS_PgdnvcrvRwSYvCj                                   #\n",
    "#              eiSAGwm9mwOGZSVjzUxICgPOIoEffQ31s                                   #\n",
    "#              X2l-IGvDFULG7ZmAdmZhhruAgi7o_4W_n                                   #\n",
    "#              HpFjfde7N-H7YjFai-i0PSA9j2OCvLQjq                                   #\n",
    "#              bNkeHjw-Q                                                           #\n",
    "# App - ZoLTiFy                                                                    #\n",
    "# ID / Secret: 085733e14f894738bf40334443020126 / 62d8f8eccfdf49d9bf8710eb47d2a34c #\n",
    "# App - Releases_2022                                                              #\n",
    "# ID / Secret: bf7349672eab4050bf4567ed7c6732ec / bda8d2acbf974cd5932f00a6a763fad3 #\n",
    "# App - 3                                                                          #\n",
    "# ID / Secret: dbf80683949a456592837fe493b579a7 / ac2a80f3cde94feb8c4b886cfd556cfd #\n",
    "# App - 4                                                                          #\n",
    "# ID / Secret: b6f601f082f7491aa9c4ab7271fae6fd / fc0e21ebc5974886acc6ba14d4676c02 #\n",
    "# App - 5                                                                          #\n",
    "# ID / Secret: 0464cab38a1a4fb89c8678f6b1e27e81 / 58c42925f46941c6b7ca21cb157908b6 #\n",
    "# App - 6                                                                          #\n",
    "# ID / Secret: 65df35b84b8a47d2b66e21a2a8e39dd3 / 90e3ed69a2f24735a5d4710bc6a377fa #\n",
    "# App - 7                                                                          #\n",
    "# ID / Secret: f61219e4380f4b8796e9f4d224da5494 / cb4cb64077834ba2bae059bf983dd47f #\n",
    "# App - 8                                                                          #\n",
    "# ID / Secret: 3c51ca3a9e314bd5aeb608d22e369efd / 174b4c06e0974b01bbf7294d11c9bd7f #\n",
    "# App - 9                                                                          #\n",
    "# ID / Secret: 3f3a6839a5de407ab16c87ba3ba8cd68 / 03410f4b5165403b8219d14cc9550605 #\n",
    "# App - 10                                                                         #\n",
    "# ID / Secret: a8461dc61ff44abd83f94a4a07de530f / ed2e1d6898834e4bb649df080e5474bf #\n",
    "#                                                                                  #\n",
    "####################################################################################\n",
    "\n",
    "\n",
    "############################\n",
    "# Spotify account: Unknown #\n",
    "############################\n",
    "\n",
    "# App - Unknown\n",
    "# Client ID: 7a06f1d458ac41f8b25577e02ec30d62\n",
    "# Client Secret: 2f10949260a449968cb0fa13f1e5a4c9"
   ]
  },
  {
   "attachments": {},
   "cell_type": "markdown",
   "metadata": {},
   "source": [
    "### Import des bibliothèques requises + Initialisation du Client Spotipy "
   ]
  },
  {
   "cell_type": "code",
   "execution_count": 1,
   "metadata": {},
   "outputs": [],
   "source": [
    "import spotipy, threading, itertools, time, datetime\n",
    "import pandas as pd\n",
    "\n",
    "from collections import defaultdict\n",
    "from spotipy.oauth2 import SpotifyClientCredentials\n",
    "\n",
    "client_id = ['085733e14f894738bf40334443020126', 'bf7349672eab4050bf4567ed7c6732ec', 'dbf80683949a456592837fe493b579a7', 'b6f601f082f7491aa9c4ab7271fae6fd', '0464cab38a1a4fb89c8678f6b1e27e81', '65df35b84b8a47d2b66e21a2a8e39dd3', 'f61219e4380f4b8796e9f4d224da5494', '3c51ca3a9e314bd5aeb608d22e369efd', '3f3a6839a5de407ab16c87ba3ba8cd68', 'a8461dc61ff44abd83f94a4a07de530f', '7a06f1d458ac41f8b25577e02ec30d62']\n",
    "client_secret = ['62d8f8eccfdf49d9bf8710eb47d2a34c', 'bda8d2acbf974cd5932f00a6a763fad3', 'ac2a80f3cde94feb8c4b886cfd556cfd', 'fc0e21ebc5974886acc6ba14d4676c02', '58c42925f46941c6b7ca21cb157908b6', '90e3ed69a2f24735a5d4710bc6a377fa', 'cb4cb64077834ba2bae059bf983dd47f', '174b4c06e0974b01bbf7294d11c9bd7f', '03410f4b5165403b8219d14cc9550605', 'ed2e1d6898834e4bb649df080e5474bf', '2f10949260a449968cb0fa13f1e5a4c9']\n",
    "\n",
    "spotify_client_credentials = []\n",
    "spotify_client = []\n",
    "\n",
    "for i in range(len(client_id)):\n",
    "      spotify_client_credentials.append(SpotifyClientCredentials(client_id=client_id[i], client_secret=client_secret[i]))\n",
    "\n",
    "for cred in spotify_client_credentials:                                                    \n",
    "      spotify_client.append(spotipy.Spotify(client_credentials_manager = spotify_client_credentials[0]))"
   ]
  },
  {
   "cell_type": "code",
   "execution_count": 9,
   "metadata": {},
   "outputs": [
    {
     "name": "stdout",
     "output_type": "stream",
     "text": [
      "   list1 list2\n",
      "0      1     a\n",
      "1      1     b\n",
      "2      1     c\n",
      "3      2     a\n",
      "4      2     b\n",
      "5      2     c\n",
      "6      3     a\n",
      "7      3     b\n",
      "8      3     c\n"
     ]
    }
   ],
   "source": [
    "import pandas as pd\n",
    "\n",
    "dfX = pd.DataFrame([[x,y] for x in [1,2,3] for y in ['a','b','c']] , columns=['list1','list2'])\n",
    "\n",
    "print(dfX)"
   ]
  },
  {
   "cell_type": "code",
   "execution_count": 7,
   "metadata": {},
   "outputs": [
    {
     "ename": "TypeError",
     "evalue": "can't multiply sequence by non-int of type 'float'",
     "output_type": "error",
     "traceback": [
      "\u001b[0;31m---------------------------------------------------------------------------\u001b[0m",
      "\u001b[0;31mTypeError\u001b[0m                                 Traceback (most recent call last)",
      "File \u001b[0;32m~/.local/lib/python3.10/site-packages/pandas/core/ops/array_ops.py:165\u001b[0m, in \u001b[0;36m_na_arithmetic_op\u001b[0;34m(left, right, op, is_cmp)\u001b[0m\n\u001b[1;32m    164\u001b[0m \u001b[39mtry\u001b[39;00m:\n\u001b[0;32m--> 165\u001b[0m     result \u001b[39m=\u001b[39m func(left, right)\n\u001b[1;32m    166\u001b[0m \u001b[39mexcept\u001b[39;00m \u001b[39mTypeError\u001b[39;00m:\n",
      "File \u001b[0;32m~/.local/lib/python3.10/site-packages/pandas/core/computation/expressions.py:241\u001b[0m, in \u001b[0;36mevaluate\u001b[0;34m(op, a, b, use_numexpr)\u001b[0m\n\u001b[1;32m    239\u001b[0m     \u001b[39mif\u001b[39;00m use_numexpr:\n\u001b[1;32m    240\u001b[0m         \u001b[39m# error: \"None\" not callable\u001b[39;00m\n\u001b[0;32m--> 241\u001b[0m         \u001b[39mreturn\u001b[39;00m _evaluate(op, op_str, a, b)  \u001b[39m# type: ignore[misc]\u001b[39;00m\n\u001b[1;32m    242\u001b[0m \u001b[39mreturn\u001b[39;00m _evaluate_standard(op, op_str, a, b)\n",
      "File \u001b[0;32m~/.local/lib/python3.10/site-packages/pandas/core/computation/expressions.py:129\u001b[0m, in \u001b[0;36m_evaluate_numexpr\u001b[0;34m(op, op_str, a, b)\u001b[0m\n\u001b[1;32m    128\u001b[0m \u001b[39mif\u001b[39;00m result \u001b[39mis\u001b[39;00m \u001b[39mNone\u001b[39;00m:\n\u001b[0;32m--> 129\u001b[0m     result \u001b[39m=\u001b[39m _evaluate_standard(op, op_str, a, b)\n\u001b[1;32m    131\u001b[0m \u001b[39mreturn\u001b[39;00m result\n",
      "File \u001b[0;32m~/.local/lib/python3.10/site-packages/pandas/core/computation/expressions.py:70\u001b[0m, in \u001b[0;36m_evaluate_standard\u001b[0;34m(op, op_str, a, b)\u001b[0m\n\u001b[1;32m     69\u001b[0m     _store_test_result(\u001b[39mFalse\u001b[39;00m)\n\u001b[0;32m---> 70\u001b[0m \u001b[39mreturn\u001b[39;00m op(a, b)\n",
      "\u001b[0;31mTypeError\u001b[0m: can't multiply sequence by non-int of type 'float'",
      "\nDuring handling of the above exception, another exception occurred:\n",
      "\u001b[0;31mTypeError\u001b[0m                                 Traceback (most recent call last)",
      "Cell \u001b[0;32mIn[7], line 10\u001b[0m\n\u001b[1;32m      7\u001b[0m df1 \u001b[39m=\u001b[39m pd\u001b[39m.\u001b[39mDataFrame(spotify_genres)\n\u001b[1;32m      8\u001b[0m df2 \u001b[39m=\u001b[39m pd\u001b[39m.\u001b[39mDataFrame(years)\n\u001b[0;32m---> 10\u001b[0m df3 \u001b[39m=\u001b[39m df1\u001b[39m*\u001b[39;49mdf2\n",
      "File \u001b[0;32m~/.local/lib/python3.10/site-packages/pandas/core/ops/common.py:72\u001b[0m, in \u001b[0;36m_unpack_zerodim_and_defer.<locals>.new_method\u001b[0;34m(self, other)\u001b[0m\n\u001b[1;32m     68\u001b[0m             \u001b[39mreturn\u001b[39;00m \u001b[39mNotImplemented\u001b[39m\n\u001b[1;32m     70\u001b[0m other \u001b[39m=\u001b[39m item_from_zerodim(other)\n\u001b[0;32m---> 72\u001b[0m \u001b[39mreturn\u001b[39;00m method(\u001b[39mself\u001b[39;49m, other)\n",
      "File \u001b[0;32m~/.local/lib/python3.10/site-packages/pandas/core/arraylike.py:118\u001b[0m, in \u001b[0;36mOpsMixin.__mul__\u001b[0;34m(self, other)\u001b[0m\n\u001b[1;32m    116\u001b[0m \u001b[39m@unpack_zerodim_and_defer\u001b[39m(\u001b[39m\"\u001b[39m\u001b[39m__mul__\u001b[39m\u001b[39m\"\u001b[39m)\n\u001b[1;32m    117\u001b[0m \u001b[39mdef\u001b[39;00m \u001b[39m__mul__\u001b[39m(\u001b[39mself\u001b[39m, other):\n\u001b[0;32m--> 118\u001b[0m     \u001b[39mreturn\u001b[39;00m \u001b[39mself\u001b[39;49m\u001b[39m.\u001b[39;49m_arith_method(other, operator\u001b[39m.\u001b[39;49mmul)\n",
      "File \u001b[0;32m~/.local/lib/python3.10/site-packages/pandas/core/frame.py:7594\u001b[0m, in \u001b[0;36mDataFrame._arith_method\u001b[0;34m(self, other, op)\u001b[0m\n\u001b[1;32m   7590\u001b[0m other \u001b[39m=\u001b[39m ops\u001b[39m.\u001b[39mmaybe_prepare_scalar_for_op(other, (\u001b[39mself\u001b[39m\u001b[39m.\u001b[39mshape[axis],))\n\u001b[1;32m   7592\u001b[0m \u001b[39mself\u001b[39m, other \u001b[39m=\u001b[39m ops\u001b[39m.\u001b[39malign_method_FRAME(\u001b[39mself\u001b[39m, other, axis, flex\u001b[39m=\u001b[39m\u001b[39mTrue\u001b[39;00m, level\u001b[39m=\u001b[39m\u001b[39mNone\u001b[39;00m)\n\u001b[0;32m-> 7594\u001b[0m new_data \u001b[39m=\u001b[39m \u001b[39mself\u001b[39;49m\u001b[39m.\u001b[39;49m_dispatch_frame_op(other, op, axis\u001b[39m=\u001b[39;49maxis)\n\u001b[1;32m   7595\u001b[0m \u001b[39mreturn\u001b[39;00m \u001b[39mself\u001b[39m\u001b[39m.\u001b[39m_construct_result(new_data)\n",
      "File \u001b[0;32m~/.local/lib/python3.10/site-packages/pandas/core/frame.py:7633\u001b[0m, in \u001b[0;36mDataFrame._dispatch_frame_op\u001b[0;34m(self, right, func, axis)\u001b[0m\n\u001b[1;32m   7627\u001b[0m     \u001b[39m# TODO: The previous assertion `assert right._indexed_same(self)`\u001b[39;00m\n\u001b[1;32m   7628\u001b[0m     \u001b[39m#  fails in cases with empty columns reached via\u001b[39;00m\n\u001b[1;32m   7629\u001b[0m     \u001b[39m#  _frame_arith_method_with_reindex\u001b[39;00m\n\u001b[1;32m   7630\u001b[0m \n\u001b[1;32m   7631\u001b[0m     \u001b[39m# TODO operate_blockwise expects a manager of the same type\u001b[39;00m\n\u001b[1;32m   7632\u001b[0m     \u001b[39mwith\u001b[39;00m np\u001b[39m.\u001b[39merrstate(\u001b[39mall\u001b[39m\u001b[39m=\u001b[39m\u001b[39m\"\u001b[39m\u001b[39mignore\u001b[39m\u001b[39m\"\u001b[39m):\n\u001b[0;32m-> 7633\u001b[0m         bm \u001b[39m=\u001b[39m \u001b[39mself\u001b[39;49m\u001b[39m.\u001b[39;49m_mgr\u001b[39m.\u001b[39;49moperate_blockwise(\n\u001b[1;32m   7634\u001b[0m             \u001b[39m# error: Argument 1 to \"operate_blockwise\" of \"ArrayManager\" has\u001b[39;49;00m\n\u001b[1;32m   7635\u001b[0m             \u001b[39m# incompatible type \"Union[ArrayManager, BlockManager]\"; expected\u001b[39;49;00m\n\u001b[1;32m   7636\u001b[0m             \u001b[39m# \"ArrayManager\"\u001b[39;49;00m\n\u001b[1;32m   7637\u001b[0m             \u001b[39m# error: Argument 1 to \"operate_blockwise\" of \"BlockManager\" has\u001b[39;49;00m\n\u001b[1;32m   7638\u001b[0m             \u001b[39m# incompatible type \"Union[ArrayManager, BlockManager]\"; expected\u001b[39;49;00m\n\u001b[1;32m   7639\u001b[0m             \u001b[39m# \"BlockManager\"\u001b[39;49;00m\n\u001b[1;32m   7640\u001b[0m             right\u001b[39m.\u001b[39;49m_mgr,  \u001b[39m# type: ignore[arg-type]\u001b[39;49;00m\n\u001b[1;32m   7641\u001b[0m             array_op,\n\u001b[1;32m   7642\u001b[0m         )\n\u001b[1;32m   7643\u001b[0m     \u001b[39mreturn\u001b[39;00m \u001b[39mself\u001b[39m\u001b[39m.\u001b[39m_constructor(bm)\n\u001b[1;32m   7645\u001b[0m \u001b[39melif\u001b[39;00m \u001b[39misinstance\u001b[39m(right, Series) \u001b[39mand\u001b[39;00m axis \u001b[39m==\u001b[39m \u001b[39m1\u001b[39m:\n\u001b[1;32m   7646\u001b[0m     \u001b[39m# axis=1 means we want to operate row-by-row\u001b[39;00m\n",
      "File \u001b[0;32m~/.local/lib/python3.10/site-packages/pandas/core/internals/managers.py:1589\u001b[0m, in \u001b[0;36mBlockManager.operate_blockwise\u001b[0;34m(self, other, array_op)\u001b[0m\n\u001b[1;32m   1585\u001b[0m \u001b[39mdef\u001b[39;00m \u001b[39moperate_blockwise\u001b[39m(\u001b[39mself\u001b[39m, other: BlockManager, array_op) \u001b[39m-\u001b[39m\u001b[39m>\u001b[39m BlockManager:\n\u001b[1;32m   1586\u001b[0m \u001b[39m    \u001b[39m\u001b[39m\"\"\"\u001b[39;00m\n\u001b[1;32m   1587\u001b[0m \u001b[39m    Apply array_op blockwise with another (aligned) BlockManager.\u001b[39;00m\n\u001b[1;32m   1588\u001b[0m \u001b[39m    \"\"\"\u001b[39;00m\n\u001b[0;32m-> 1589\u001b[0m     \u001b[39mreturn\u001b[39;00m operate_blockwise(\u001b[39mself\u001b[39;49m, other, array_op)\n",
      "File \u001b[0;32m~/.local/lib/python3.10/site-packages/pandas/core/internals/ops.py:63\u001b[0m, in \u001b[0;36moperate_blockwise\u001b[0;34m(left, right, array_op)\u001b[0m\n\u001b[1;32m     61\u001b[0m res_blks: \u001b[39mlist\u001b[39m[Block] \u001b[39m=\u001b[39m []\n\u001b[1;32m     62\u001b[0m \u001b[39mfor\u001b[39;00m lvals, rvals, locs, left_ea, right_ea, rblk \u001b[39min\u001b[39;00m _iter_block_pairs(left, right):\n\u001b[0;32m---> 63\u001b[0m     res_values \u001b[39m=\u001b[39m array_op(lvals, rvals)\n\u001b[1;32m     64\u001b[0m     \u001b[39mif\u001b[39;00m left_ea \u001b[39mand\u001b[39;00m \u001b[39mnot\u001b[39;00m right_ea \u001b[39mand\u001b[39;00m \u001b[39mhasattr\u001b[39m(res_values, \u001b[39m\"\u001b[39m\u001b[39mreshape\u001b[39m\u001b[39m\"\u001b[39m):\n\u001b[1;32m     65\u001b[0m         res_values \u001b[39m=\u001b[39m res_values\u001b[39m.\u001b[39mreshape(\u001b[39m1\u001b[39m, \u001b[39m-\u001b[39m\u001b[39m1\u001b[39m)\n",
      "File \u001b[0;32m~/.local/lib/python3.10/site-packages/pandas/core/ops/array_ops.py:226\u001b[0m, in \u001b[0;36marithmetic_op\u001b[0;34m(left, right, op)\u001b[0m\n\u001b[1;32m    222\u001b[0m     _bool_arith_check(op, left, right)\n\u001b[1;32m    224\u001b[0m     \u001b[39m# error: Argument 1 to \"_na_arithmetic_op\" has incompatible type\u001b[39;00m\n\u001b[1;32m    225\u001b[0m     \u001b[39m# \"Union[ExtensionArray, ndarray[Any, Any]]\"; expected \"ndarray[Any, Any]\"\u001b[39;00m\n\u001b[0;32m--> 226\u001b[0m     res_values \u001b[39m=\u001b[39m _na_arithmetic_op(left, right, op)  \u001b[39m# type: ignore[arg-type]\u001b[39;00m\n\u001b[1;32m    228\u001b[0m \u001b[39mreturn\u001b[39;00m res_values\n",
      "File \u001b[0;32m~/.local/lib/python3.10/site-packages/pandas/core/ops/array_ops.py:172\u001b[0m, in \u001b[0;36m_na_arithmetic_op\u001b[0;34m(left, right, op, is_cmp)\u001b[0m\n\u001b[1;32m    166\u001b[0m \u001b[39mexcept\u001b[39;00m \u001b[39mTypeError\u001b[39;00m:\n\u001b[1;32m    167\u001b[0m     \u001b[39mif\u001b[39;00m \u001b[39mnot\u001b[39;00m is_cmp \u001b[39mand\u001b[39;00m (is_object_dtype(left\u001b[39m.\u001b[39mdtype) \u001b[39mor\u001b[39;00m is_object_dtype(right)):\n\u001b[1;32m    168\u001b[0m         \u001b[39m# For object dtype, fallback to a masked operation (only operating\u001b[39;00m\n\u001b[1;32m    169\u001b[0m         \u001b[39m#  on the non-missing values)\u001b[39;00m\n\u001b[1;32m    170\u001b[0m         \u001b[39m# Don't do this for comparisons, as that will handle complex numbers\u001b[39;00m\n\u001b[1;32m    171\u001b[0m         \u001b[39m#  incorrectly, see GH#32047\u001b[39;00m\n\u001b[0;32m--> 172\u001b[0m         result \u001b[39m=\u001b[39m _masked_arith_op(left, right, op)\n\u001b[1;32m    173\u001b[0m     \u001b[39melse\u001b[39;00m:\n\u001b[1;32m    174\u001b[0m         \u001b[39mraise\u001b[39;00m\n",
      "File \u001b[0;32m~/.local/lib/python3.10/site-packages/pandas/core/ops/array_ops.py:110\u001b[0m, in \u001b[0;36m_masked_arith_op\u001b[0;34m(x, y, op)\u001b[0m\n\u001b[1;32m    108\u001b[0m     \u001b[39m# See GH#5284, GH#5035, GH#19448 for historical reference\u001b[39;00m\n\u001b[1;32m    109\u001b[0m     \u001b[39mif\u001b[39;00m mask\u001b[39m.\u001b[39many():\n\u001b[0;32m--> 110\u001b[0m         result[mask] \u001b[39m=\u001b[39m op(xrav[mask], yrav[mask])\n\u001b[1;32m    112\u001b[0m \u001b[39melse\u001b[39;00m:\n\u001b[1;32m    113\u001b[0m     \u001b[39mif\u001b[39;00m \u001b[39mnot\u001b[39;00m is_scalar(y):\n",
      "\u001b[0;31mTypeError\u001b[0m: can't multiply sequence by non-int of type 'float'"
     ]
    }
   ],
   "source": [
    "spotify_genres = spotify_client[0].recommendation_genre_seeds()\n",
    "spotify_genres = spotify_genres['genres']\n",
    "spotify_genres\n",
    "\n",
    "years = [2016,2017,2018,2019,2020,2021,2022,2023]\n",
    "\n",
    "df1 = pd.DataFrame(spotify_genres)\n",
    "df2 = pd.DataFrame(years)\n",
    "\n",
    "df3 = df1."
   ]
  },
  {
   "attachments": {},
   "cell_type": "markdown",
   "metadata": {},
   "source": [
    "### Chargement des données préalablement extraites (source : MusicBrainz)"
   ]
  },
  {
   "cell_type": "code",
   "execution_count": null,
   "metadata": {},
   "outputs": [],
   "source": [
    "input_data = pd.read_csv('mb_data/albums_released_2022.csv', sep='\\t')\n",
    "input_data"
   ]
  },
  {
   "attachments": {},
   "cell_type": "markdown",
   "metadata": {},
   "source": [
    "### Retrieve Data from Spotify API"
   ]
  },
  {
   "cell_type": "code",
   "execution_count": null,
   "metadata": {},
   "outputs": [],
   "source": [
    "# Initialization of main variables\n",
    "track_db_without_af = []\n",
    "af_db = []\n",
    "\n",
    "# Input dataframe - Select a slice for testing => ie. dataframe[:100]\n",
    "input_data = input_data\n",
    "input_main_data_type = 'artist'\n",
    "input_secondary_data_type = 'track'\n",
    "\n",
    "# Multithreading - Data slicing to feed the threads\n",
    "number_of_threads = len(spotify_client)\n",
    "slice_size = len(input_data) // (number_of_threads)\n",
    "slice_limit = []\n",
    "thread = []\n",
    "\n",
    "SLEEPTIME = 3\n",
    "NOMAX = 1e4\n",
    "MAX = 5\n",
    "\n",
    "for i in range(number_of_threads + 1):\n",
    "    if i == 0:\n",
    "        slice_limit.append(0)\n",
    "    elif i != number_of_threads:\n",
    "        slice_limit.append(i*slice_size)\n",
    "    else:\n",
    "        slice_limit.append(len(input_data))\n",
    "\n",
    "def get_audio_features(track_ids, thread_number):\n",
    "    audio_features = []\n",
    "\n",
    "    if len(track_ids) > 100:\n",
    "        print(\"TOO MANY TRACK IDS\")\n",
    "        return audio_features\n",
    "    else:\n",
    "        audio_features = spotify_client[thread_number].audio_features(track_ids)\n",
    "        audio_features = [item for item in audio_features if item is not None]\n",
    "\n",
    "    for idx, item in enumerate(audio_features):\n",
    "        item['track_id'] = item.pop('uri')\n",
    "        item.update({'track_id': item['track_id'].split(':')[-1]})\n",
    "\n",
    "    return audio_features\n",
    "        \n",
    "def launch_thread(start, end, thread_number):\n",
    "    # try:\n",
    "        request = 0\n",
    "        max_consecutive_requests = NOMAX\n",
    "\n",
    "        for index in range(start, end):\n",
    "            request += 1\n",
    "            row = input_data.iloc[index]\n",
    "            \n",
    "            if request % max_consecutive_requests == 1:\n",
    "                time.sleep(SLEEPTIME)\n",
    "            \n",
    "            print(input_secondary_data_type + \": \" + row[input_secondary_data_type], input_main_data_type + \": \" + row[input_main_data_type])\n",
    "            print(\"Thread n°\", thread_number + 1, \" -- Request n°\", request)\n",
    "\n",
    "            track_results = spotify_client[thread_number].search(q=input_secondary_data_type + \":\" + row[input_secondary_data_type] + ' ' + input_main_data_type + ': ' + row[input_main_data_type], type='track', limit=50)\n",
    "\n",
    "            if track_results['tracks']['total'] == 0:\n",
    "                continue\n",
    "\n",
    "            track_ids_for_batch_AF_request = []\n",
    "\n",
    "            for i, t in enumerate(track_results['tracks']['items']):\n",
    "\n",
    "                track_info = dict(track_id = t['id'], track_name = t['name'], artist_id = t['artists'][0]['id'],\n",
    "                                  artist_name = t['artists'][0]['name'], album_id = t['album']['id'],\n",
    "                                  album_name = t['album']['name'], release_date = t['album']['release_date'],\n",
    "                                  popularity = t['popularity'], duration_ms = t['duration_ms'], explicit = t['explicit'],\n",
    "                                  external_urls = t['external_urls']['spotify'], is_local = t['is_local'],\n",
    "                                  preview_url = t['preview_url'], track_number = t['track_number'], genres = '',\n",
    "                                  danceability = None, energy = None, key = None, loudness = None, mode = None,\n",
    "                                  speechiness = None, acousticness = None, instrumentalness = None, liveness = None,\n",
    "                                  valence = None, tempo = None, time_signature = None)\n",
    "                \n",
    "                if len(track_info['release_date']) == 10:\n",
    "                    if datetime.datetime.strptime(track_info['release_date'], '%Y-%m-%d').date().year == 2022:\n",
    "                        track_db_without_af.append(track_info)\n",
    "                        track_ids_for_batch_AF_request.append(t['id'])\n",
    "                elif len(track_info['release_date']) == 4:\n",
    "                    if int(track_info['release_date']) == 2022:\n",
    "                        track_db_without_af.append(track_info)\n",
    "                        track_ids_for_batch_AF_request.append(t['id'])\n",
    "                else:\n",
    "                    print(\"CKOICETRUC ? =>\", track_info['release_date'])\n",
    "                \n",
    "            if len(track_ids_for_batch_AF_request) > 100:\n",
    "                raise Exception(\"Expected - Development Exception: more than 100 audio features to recover (feature in development)\")\n",
    "            else:\n",
    "                af_db.extend(get_audio_features(track_ids_for_batch_AF_request, thread_number))\n",
    "\n",
    "    # except Exception as e:\n",
    "    #     print(\"Exception raised for thread N°\", thread_number,\":\", e)\n",
    "\n",
    "# Launch the multithreading\n",
    "for i in range(number_of_threads):\n",
    "    thread.append(threading.Thread(target=launch_thread, args=(slice_limit[i], slice_limit[i+1], i)))\n",
    "    thread[i].start()\n",
    "\n",
    "# Wait for completion\n",
    "for i in range(number_of_threads):\n",
    "    thread[i].join()"
   ]
  },
  {
   "cell_type": "code",
   "execution_count": null,
   "metadata": {},
   "outputs": [],
   "source": [
    "# def merge(shared_key, *iterables):\n",
    "#     result = defaultdict(dict)\n",
    "#     for dictionary in itertools.chain.from_iterable(iterables):\n",
    "#         result[dictionary[shared_key]].update(dictionary)\n",
    "#     for dictionary in result.values():\n",
    "#         dictionary.pop(shared_key)\n",
    "#     return result\n",
    "\n",
    "track_df_with_af = pd.DataFrame()\n",
    "af_df = pd.DataFrame(af_db)\n",
    "track_df_without_af = pd.DataFrame(track_db_without_af)\n",
    "print(track_df_without_af.info(), '\\n', track_df_without_af)\n",
    "track_df_without_af.drop_duplicates(ignore_index=True, subset=['track_name', 'duration_ms'], keep = 'first', inplace = True)\n",
    "\n",
    "print(len(af_df),\" = \",len(track_df_without_af),\" = \",len(track_df_with_af))\n",
    "track_df_with_af = pd.merge(track_df_without_af, af_df, on='track_id', how='inner')\n",
    "print(len(af_df),\" = \",len(track_df_without_af),\" = \",len(track_df_with_af))"
   ]
  },
  {
   "cell_type": "code",
   "execution_count": null,
   "metadata": {},
   "outputs": [],
   "source": [
    "track_df_with_af.to_csv('extraction_test.csv', index=False)"
   ]
  }
 ],
 "metadata": {
  "kernelspec": {
   "display_name": "zoltar",
   "language": "python",
   "name": "python3"
  },
  "language_info": {
   "codemirror_mode": {
    "name": "ipython",
    "version": 3
   },
   "file_extension": ".py",
   "mimetype": "text/x-python",
   "name": "python",
   "nbconvert_exporter": "python",
   "pygments_lexer": "ipython3",
   "version": "3.10.9"
  },
  "orig_nbformat": 4,
  "vscode": {
   "interpreter": {
    "hash": "8b30607a8c237c15766f49bbb04de84ed3af16fb75cd5ef509172a1330ad370e"
   }
  }
 },
 "nbformat": 4,
 "nbformat_minor": 2
}
